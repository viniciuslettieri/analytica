{
 "cells": [
  {
   "cell_type": "markdown",
   "id": "3b7aa280-bfd1-44cc-a85a-94e1534bdc1a",
   "metadata": {},
   "source": [
    "# Uma análise da educação brasileira a nível estadual"
   ]
  },
  {
   "cell_type": "markdown",
   "id": "6117b613-2d9c-421b-bc76-9aa1e8f30877",
   "metadata": {},
   "source": [
    "### Escolhas de Dados"
   ]
  },
  {
   "cell_type": "markdown",
   "id": "766e29ff-0641-4214-9187-346da0aa7b29",
   "metadata": {},
   "source": [
    "Ao invés de usar o **idhm_e** para medir o **nível de educação dos estados**, dei preferência para o índice **ideb**. Isso porque, **a primeira é determinada apenas com o nível de alfabetização e a frequência escolar dos alunos**, que não acredito que seja uma boa quantificação da qualidade de ensino e nível de conhecimento. **Já a segunda, é determinada pelo nível de aprovação e por notas na prova saeb**."
   ]
  },
  {
   "cell_type": "markdown",
   "id": "644708a3-45fa-4a9d-a06e-faae1f9856c6",
   "metadata": {},
   "source": [
    "..."
   ]
  },
  {
   "cell_type": "markdown",
   "id": "fc11247b-7869-467d-b219-62f839f4dcfd",
   "metadata": {},
   "source": [
    "### Coleta dos Dados"
   ]
  },
  {
   "cell_type": "code",
   "execution_count": 5,
   "id": "97955695-9edd-481d-a0f1-114348f0b70c",
   "metadata": {},
   "outputs": [],
   "source": [
    "import basedosdados as bd\n",
    "import pandas as pd"
   ]
  },
  {
   "cell_type": "markdown",
   "id": "23d9eab4-4ebc-40ac-8da9-368148513515",
   "metadata": {},
   "source": [
    "#### Avaliação da Educação pela Prova SAEB"
   ]
  },
  {
   "cell_type": "markdown",
   "id": "af9856bc-d3b0-4d1e-a7c9-fd69b4bca6d5",
   "metadata": {},
   "source": [
    "Para a avaliação da educação, usarei os dados da prova da saeb, que se encontram na base de dados 'br_inep_ideb', mas especificamente na 'br_inep_ideb.estado' visto que o enfoque é estadual."
   ]
  },
  {
   "cell_type": "code",
   "execution_count": 6,
   "id": "a34a237a-4ac1-4d15-8643-4b384ab9ed6c",
   "metadata": {},
   "outputs": [],
   "source": [
    "# querybd = \"SELECT * FROM `basedosdados.br_inep_ideb.estado`\"\n",
    "# bd.download(query=querybd, savepath=\"dados_ideb\", billing_project_id=\"projeto-analytica-314611\")"
   ]
  },
  {
   "cell_type": "code",
   "execution_count": 7,
   "id": "7739582d-9e04-43a3-b222-e5926ee76f27",
   "metadata": {},
   "outputs": [
    {
     "data": {
      "text/html": [
       "<div>\n",
       "<style scoped>\n",
       "    .dataframe tbody tr th:only-of-type {\n",
       "        vertical-align: middle;\n",
       "    }\n",
       "\n",
       "    .dataframe tbody tr th {\n",
       "        vertical-align: top;\n",
       "    }\n",
       "\n",
       "    .dataframe thead th {\n",
       "        text-align: right;\n",
       "    }\n",
       "</style>\n",
       "<table border=\"1\" class=\"dataframe\">\n",
       "  <thead>\n",
       "    <tr style=\"text-align: right;\">\n",
       "      <th></th>\n",
       "      <th>estado_abrev</th>\n",
       "      <th>rede</th>\n",
       "      <th>ensino</th>\n",
       "      <th>anos_escolares</th>\n",
       "      <th>ano</th>\n",
       "      <th>taxa_aprovacao</th>\n",
       "      <th>indicador_rendimento</th>\n",
       "      <th>nota_saeb_matematica</th>\n",
       "      <th>nota_saeb_lingua_portuguesa</th>\n",
       "      <th>nota_saeb_media_padronizada</th>\n",
       "      <th>ideb</th>\n",
       "      <th>projecao</th>\n",
       "    </tr>\n",
       "  </thead>\n",
       "  <tbody>\n",
       "    <tr>\n",
       "      <th>0</th>\n",
       "      <td>AC</td>\n",
       "      <td>estadual</td>\n",
       "      <td>fundamental</td>\n",
       "      <td>finais (6-9)</td>\n",
       "      <td>2005</td>\n",
       "      <td>82.9</td>\n",
       "      <td>0.834163</td>\n",
       "      <td>224.91</td>\n",
       "      <td>227.27</td>\n",
       "      <td>4.202988</td>\n",
       "      <td>3.5</td>\n",
       "      <td>NaN</td>\n",
       "    </tr>\n",
       "    <tr>\n",
       "      <th>1</th>\n",
       "      <td>AC</td>\n",
       "      <td>estadual</td>\n",
       "      <td>fundamental</td>\n",
       "      <td>finais (6-9)</td>\n",
       "      <td>2007</td>\n",
       "      <td>86.6</td>\n",
       "      <td>0.868471</td>\n",
       "      <td>234.00</td>\n",
       "      <td>225.57</td>\n",
       "      <td>4.326167</td>\n",
       "      <td>3.8</td>\n",
       "      <td>3.5</td>\n",
       "    </tr>\n",
       "    <tr>\n",
       "      <th>2</th>\n",
       "      <td>AC</td>\n",
       "      <td>estadual</td>\n",
       "      <td>fundamental</td>\n",
       "      <td>finais (6-9)</td>\n",
       "      <td>2009</td>\n",
       "      <td>88.8</td>\n",
       "      <td>0.889272</td>\n",
       "      <td>238.08</td>\n",
       "      <td>240.47</td>\n",
       "      <td>4.642833</td>\n",
       "      <td>4.1</td>\n",
       "      <td>3.7</td>\n",
       "    </tr>\n",
       "    <tr>\n",
       "      <th>3</th>\n",
       "      <td>AC</td>\n",
       "      <td>estadual</td>\n",
       "      <td>fundamental</td>\n",
       "      <td>finais (6-9)</td>\n",
       "      <td>2011</td>\n",
       "      <td>90.5</td>\n",
       "      <td>0.906057</td>\n",
       "      <td>240.89</td>\n",
       "      <td>236.83</td>\n",
       "      <td>4.629000</td>\n",
       "      <td>4.2</td>\n",
       "      <td>4.0</td>\n",
       "    </tr>\n",
       "    <tr>\n",
       "      <th>4</th>\n",
       "      <td>AC</td>\n",
       "      <td>estadual</td>\n",
       "      <td>fundamental</td>\n",
       "      <td>finais (6-9)</td>\n",
       "      <td>2013</td>\n",
       "      <td>91.3</td>\n",
       "      <td>0.913392</td>\n",
       "      <td>243.36</td>\n",
       "      <td>245.66</td>\n",
       "      <td>4.817333</td>\n",
       "      <td>4.4</td>\n",
       "      <td>4.4</td>\n",
       "    </tr>\n",
       "  </tbody>\n",
       "</table>\n",
       "</div>"
      ],
      "text/plain": [
       "  estado_abrev      rede       ensino anos_escolares   ano  taxa_aprovacao  \\\n",
       "0           AC  estadual  fundamental   finais (6-9)  2005            82.9   \n",
       "1           AC  estadual  fundamental   finais (6-9)  2007            86.6   \n",
       "2           AC  estadual  fundamental   finais (6-9)  2009            88.8   \n",
       "3           AC  estadual  fundamental   finais (6-9)  2011            90.5   \n",
       "4           AC  estadual  fundamental   finais (6-9)  2013            91.3   \n",
       "\n",
       "   indicador_rendimento  nota_saeb_matematica  nota_saeb_lingua_portuguesa  \\\n",
       "0              0.834163                224.91                       227.27   \n",
       "1              0.868471                234.00                       225.57   \n",
       "2              0.889272                238.08                       240.47   \n",
       "3              0.906057                240.89                       236.83   \n",
       "4              0.913392                243.36                       245.66   \n",
       "\n",
       "   nota_saeb_media_padronizada  ideb  projecao  \n",
       "0                     4.202988   3.5       NaN  \n",
       "1                     4.326167   3.8       3.5  \n",
       "2                     4.642833   4.1       3.7  \n",
       "3                     4.629000   4.2       4.0  \n",
       "4                     4.817333   4.4       4.4  "
      ]
     },
     "execution_count": 7,
     "metadata": {},
     "output_type": "execute_result"
    }
   ],
   "source": [
    "df_ideb = pd.read_csv(\"dados_ideb\")\n",
    "df_ideb.head()"
   ]
  },
  {
   "cell_type": "markdown",
   "id": "2c338084-8b95-4c0e-a016-ded4df86be95",
   "metadata": {},
   "source": [
    "#### Remuneração dos Profissionais de Educação"
   ]
  },
  {
   "cell_type": "code",
   "execution_count": 8,
   "id": "de123964-684f-4b16-a813-cccaebfb0929",
   "metadata": {},
   "outputs": [],
   "source": [
    "# querybd = \"SELECT * FROM `basedosdados.br_inep_indicadores_educacionais.uf_remuneracao_docentes`\"\n",
    "# bd.download(query=querybd, savepath=\"dados_remuneracao\", billing_project_id=\"projeto-analytica-314611\")"
   ]
  },
  {
   "cell_type": "code",
   "execution_count": 105,
   "id": "5b14b272-1b97-4014-863c-3f37bc07f7c5",
   "metadata": {},
   "outputs": [
    {
     "data": {
      "text/html": [
       "<div>\n",
       "<style scoped>\n",
       "    .dataframe tbody tr th:only-of-type {\n",
       "        vertical-align: middle;\n",
       "    }\n",
       "\n",
       "    .dataframe tbody tr th {\n",
       "        vertical-align: top;\n",
       "    }\n",
       "\n",
       "    .dataframe thead th {\n",
       "        text-align: right;\n",
       "    }\n",
       "</style>\n",
       "<table border=\"1\" class=\"dataframe\">\n",
       "  <thead>\n",
       "    <tr style=\"text-align: right;\">\n",
       "      <th></th>\n",
       "      <th>ano</th>\n",
       "      <th>sigla_uf</th>\n",
       "      <th>rede</th>\n",
       "      <th>escolaridade</th>\n",
       "      <th>numero_docentes</th>\n",
       "      <th>prop_docentes_rais</th>\n",
       "      <th>rem_bruta_rais_1_quartil</th>\n",
       "      <th>rem_bruta_rais_mediana</th>\n",
       "      <th>rem_bruta_rais_media</th>\n",
       "      <th>rem_bruta_rais_3_quartil</th>\n",
       "      <th>rem_bruta_rais_desvio_padrao</th>\n",
       "      <th>carga_horaria_media_semanal</th>\n",
       "      <th>rem_media_40_horas_semanais</th>\n",
       "    </tr>\n",
       "  </thead>\n",
       "  <tbody>\n",
       "    <tr>\n",
       "      <th>0</th>\n",
       "      <td>2014</td>\n",
       "      <td>DF</td>\n",
       "      <td>estadual</td>\n",
       "      <td>sem superior</td>\n",
       "      <td>898</td>\n",
       "      <td>98.10690</td>\n",
       "      <td>3416.1600</td>\n",
       "      <td>3848.440</td>\n",
       "      <td>4653.6320</td>\n",
       "      <td>5605.05</td>\n",
       "      <td>1648.8040</td>\n",
       "      <td>33.91258</td>\n",
       "      <td>5488.9750</td>\n",
       "    </tr>\n",
       "    <tr>\n",
       "      <th>1</th>\n",
       "      <td>2014</td>\n",
       "      <td>GO</td>\n",
       "      <td>estadual</td>\n",
       "      <td>sem superior</td>\n",
       "      <td>2250</td>\n",
       "      <td>98.97778</td>\n",
       "      <td>1105.2400</td>\n",
       "      <td>1331.380</td>\n",
       "      <td>1417.1050</td>\n",
       "      <td>1596.70</td>\n",
       "      <td>557.2670</td>\n",
       "      <td>36.48251</td>\n",
       "      <td>1553.7360</td>\n",
       "    </tr>\n",
       "    <tr>\n",
       "      <th>2</th>\n",
       "      <td>2014</td>\n",
       "      <td>MS</td>\n",
       "      <td>estadual</td>\n",
       "      <td>sem superior</td>\n",
       "      <td>426</td>\n",
       "      <td>95.53991</td>\n",
       "      <td>1249.7200</td>\n",
       "      <td>1753.566</td>\n",
       "      <td>1872.2740</td>\n",
       "      <td>2363.04</td>\n",
       "      <td>892.1240</td>\n",
       "      <td>20.30959</td>\n",
       "      <td>3687.4680</td>\n",
       "    </tr>\n",
       "    <tr>\n",
       "      <th>3</th>\n",
       "      <td>2014</td>\n",
       "      <td>MT</td>\n",
       "      <td>estadual</td>\n",
       "      <td>sem superior</td>\n",
       "      <td>993</td>\n",
       "      <td>98.08661</td>\n",
       "      <td>699.1401</td>\n",
       "      <td>819.860</td>\n",
       "      <td>917.7325</td>\n",
       "      <td>1042.58</td>\n",
       "      <td>412.3462</td>\n",
       "      <td>40.00000</td>\n",
       "      <td>917.7325</td>\n",
       "    </tr>\n",
       "    <tr>\n",
       "      <th>4</th>\n",
       "      <td>2014</td>\n",
       "      <td>AL</td>\n",
       "      <td>estadual</td>\n",
       "      <td>sem superior</td>\n",
       "      <td>1588</td>\n",
       "      <td>14.86146</td>\n",
       "      <td>1305.6200</td>\n",
       "      <td>1392.120</td>\n",
       "      <td>1750.6590</td>\n",
       "      <td>1840.24</td>\n",
       "      <td>918.6773</td>\n",
       "      <td>26.58132</td>\n",
       "      <td>2634.4200</td>\n",
       "    </tr>\n",
       "  </tbody>\n",
       "</table>\n",
       "</div>"
      ],
      "text/plain": [
       "    ano sigla_uf      rede  escolaridade  numero_docentes  prop_docentes_rais  \\\n",
       "0  2014       DF  estadual  sem superior              898            98.10690   \n",
       "1  2014       GO  estadual  sem superior             2250            98.97778   \n",
       "2  2014       MS  estadual  sem superior              426            95.53991   \n",
       "3  2014       MT  estadual  sem superior              993            98.08661   \n",
       "4  2014       AL  estadual  sem superior             1588            14.86146   \n",
       "\n",
       "   rem_bruta_rais_1_quartil  rem_bruta_rais_mediana  rem_bruta_rais_media  \\\n",
       "0                 3416.1600                3848.440             4653.6320   \n",
       "1                 1105.2400                1331.380             1417.1050   \n",
       "2                 1249.7200                1753.566             1872.2740   \n",
       "3                  699.1401                 819.860              917.7325   \n",
       "4                 1305.6200                1392.120             1750.6590   \n",
       "\n",
       "   rem_bruta_rais_3_quartil  rem_bruta_rais_desvio_padrao  \\\n",
       "0                   5605.05                     1648.8040   \n",
       "1                   1596.70                      557.2670   \n",
       "2                   2363.04                      892.1240   \n",
       "3                   1042.58                      412.3462   \n",
       "4                   1840.24                      918.6773   \n",
       "\n",
       "   carga_horaria_media_semanal  rem_media_40_horas_semanais  \n",
       "0                     33.91258                    5488.9750  \n",
       "1                     36.48251                    1553.7360  \n",
       "2                     20.30959                    3687.4680  \n",
       "3                     40.00000                     917.7325  \n",
       "4                     26.58132                    2634.4200  "
      ]
     },
     "execution_count": 105,
     "metadata": {},
     "output_type": "execute_result"
    }
   ],
   "source": [
    "df_remuneracao = pd.read_csv(\"dados_remuneracao\")\n",
    "df_remuneracao.head()"
   ]
  },
  {
   "cell_type": "markdown",
   "id": "f4946993-8a05-4381-a2eb-f5c3d3adc6c5",
   "metadata": {},
   "source": [
    "#### Outros Dados de Desenvolvimento"
   ]
  },
  {
   "cell_type": "code",
   "execution_count": 9,
   "id": "51ac4360-56fb-4029-8a41-2d71982ca148",
   "metadata": {},
   "outputs": [],
   "source": [
    "# querybd = \"SELECT * FROM `basedosdados.mundo_onu_adh.estados`\"\n",
    "# bd.download(query=querybd, savepath=\"dados_adh_estados\", billing_project_id=\"projeto-analytica-314611\")"
   ]
  },
  {
   "cell_type": "code",
   "execution_count": 199,
   "id": "b5d5e2f5-d418-4ae9-9de2-139d384bc6db",
   "metadata": {},
   "outputs": [
    {
     "data": {
      "text/html": [
       "<div>\n",
       "<style scoped>\n",
       "    .dataframe tbody tr th:only-of-type {\n",
       "        vertical-align: middle;\n",
       "    }\n",
       "\n",
       "    .dataframe tbody tr th {\n",
       "        vertical-align: top;\n",
       "    }\n",
       "\n",
       "    .dataframe thead th {\n",
       "        text-align: right;\n",
       "    }\n",
       "</style>\n",
       "<table border=\"1\" class=\"dataframe\">\n",
       "  <thead>\n",
       "    <tr style=\"text-align: right;\">\n",
       "      <th></th>\n",
       "      <th>id_uf</th>\n",
       "      <th>uf</th>\n",
       "      <th>ano</th>\n",
       "      <th>expectativa_vida</th>\n",
       "      <th>fecundidade_total</th>\n",
       "      <th>mortalidade_1</th>\n",
       "      <th>mortalidade_5</th>\n",
       "      <th>razao_dependencia</th>\n",
       "      <th>prob_sobrevivencia_40</th>\n",
       "      <th>prob_sobrevivencia_60</th>\n",
       "      <th>...</th>\n",
       "      <th>pia</th>\n",
       "      <th>pia_10_14</th>\n",
       "      <th>pia_15_17</th>\n",
       "      <th>pia_18_mais</th>\n",
       "      <th>indice_escolaridade</th>\n",
       "      <th>indice_frequencia_escolar</th>\n",
       "      <th>idhm</th>\n",
       "      <th>idhm_e</th>\n",
       "      <th>idhm_l</th>\n",
       "      <th>idhm_r</th>\n",
       "    </tr>\n",
       "  </thead>\n",
       "  <tbody>\n",
       "    <tr>\n",
       "      <th>0</th>\n",
       "      <td>11</td>\n",
       "      <td>Rondônia</td>\n",
       "      <td>1991</td>\n",
       "      <td>63.11</td>\n",
       "      <td>3.55</td>\n",
       "      <td>42.41</td>\n",
       "      <td>54.06</td>\n",
       "      <td>74.36</td>\n",
       "      <td>84.85</td>\n",
       "      <td>68.68</td>\n",
       "      <td>...</td>\n",
       "      <td>NaN</td>\n",
       "      <td>NaN</td>\n",
       "      <td>NaN</td>\n",
       "      <td>NaN</td>\n",
       "      <td>0.209</td>\n",
       "      <td>0.168</td>\n",
       "      <td>0.407</td>\n",
       "      <td>0.181</td>\n",
       "      <td>0.635</td>\n",
       "      <td>0.585</td>\n",
       "    </tr>\n",
       "    <tr>\n",
       "      <th>1</th>\n",
       "      <td>11</td>\n",
       "      <td>Rondônia</td>\n",
       "      <td>2000</td>\n",
       "      <td>66.27</td>\n",
       "      <td>2.75</td>\n",
       "      <td>30.38</td>\n",
       "      <td>36.35</td>\n",
       "      <td>60.78</td>\n",
       "      <td>88.95</td>\n",
       "      <td>74.18</td>\n",
       "      <td>...</td>\n",
       "      <td>1064105.0</td>\n",
       "      <td>159442.0</td>\n",
       "      <td>95106.0</td>\n",
       "      <td>809557.0</td>\n",
       "      <td>0.301</td>\n",
       "      <td>0.369</td>\n",
       "      <td>0.537</td>\n",
       "      <td>0.345</td>\n",
       "      <td>0.688</td>\n",
       "      <td>0.654</td>\n",
       "    </tr>\n",
       "    <tr>\n",
       "      <th>2</th>\n",
       "      <td>11</td>\n",
       "      <td>Rondônia</td>\n",
       "      <td>2010</td>\n",
       "      <td>72.97</td>\n",
       "      <td>2.16</td>\n",
       "      <td>18.02</td>\n",
       "      <td>19.34</td>\n",
       "      <td>46.74</td>\n",
       "      <td>95.80</td>\n",
       "      <td>86.77</td>\n",
       "      <td>...</td>\n",
       "      <td>1294956.0</td>\n",
       "      <td>156276.0</td>\n",
       "      <td>95920.0</td>\n",
       "      <td>1042760.0</td>\n",
       "      <td>0.480</td>\n",
       "      <td>0.633</td>\n",
       "      <td>0.690</td>\n",
       "      <td>0.577</td>\n",
       "      <td>0.800</td>\n",
       "      <td>0.712</td>\n",
       "    </tr>\n",
       "    <tr>\n",
       "      <th>3</th>\n",
       "      <td>12</td>\n",
       "      <td>Acre</td>\n",
       "      <td>1991</td>\n",
       "      <td>63.72</td>\n",
       "      <td>4.86</td>\n",
       "      <td>41.85</td>\n",
       "      <td>50.63</td>\n",
       "      <td>90.47</td>\n",
       "      <td>85.84</td>\n",
       "      <td>69.37</td>\n",
       "      <td>...</td>\n",
       "      <td>NaN</td>\n",
       "      <td>NaN</td>\n",
       "      <td>NaN</td>\n",
       "      <td>NaN</td>\n",
       "      <td>0.228</td>\n",
       "      <td>0.154</td>\n",
       "      <td>0.402</td>\n",
       "      <td>0.176</td>\n",
       "      <td>0.645</td>\n",
       "      <td>0.574</td>\n",
       "    </tr>\n",
       "    <tr>\n",
       "      <th>4</th>\n",
       "      <td>12</td>\n",
       "      <td>Acre</td>\n",
       "      <td>2000</td>\n",
       "      <td>66.66</td>\n",
       "      <td>3.42</td>\n",
       "      <td>30.36</td>\n",
       "      <td>34.08</td>\n",
       "      <td>74.71</td>\n",
       "      <td>89.67</td>\n",
       "      <td>74.77</td>\n",
       "      <td>...</td>\n",
       "      <td>408802.0</td>\n",
       "      <td>67274.0</td>\n",
       "      <td>40268.0</td>\n",
       "      <td>301260.0</td>\n",
       "      <td>0.318</td>\n",
       "      <td>0.328</td>\n",
       "      <td>0.517</td>\n",
       "      <td>0.325</td>\n",
       "      <td>0.694</td>\n",
       "      <td>0.612</td>\n",
       "    </tr>\n",
       "  </tbody>\n",
       "</table>\n",
       "<p>5 rows × 231 columns</p>\n",
       "</div>"
      ],
      "text/plain": [
       "   id_uf        uf   ano  expectativa_vida  fecundidade_total  mortalidade_1  \\\n",
       "0     11  Rondônia  1991             63.11               3.55          42.41   \n",
       "1     11  Rondônia  2000             66.27               2.75          30.38   \n",
       "2     11  Rondônia  2010             72.97               2.16          18.02   \n",
       "3     12      Acre  1991             63.72               4.86          41.85   \n",
       "4     12      Acre  2000             66.66               3.42          30.36   \n",
       "\n",
       "   mortalidade_5  razao_dependencia  prob_sobrevivencia_40  \\\n",
       "0          54.06              74.36                  84.85   \n",
       "1          36.35              60.78                  88.95   \n",
       "2          19.34              46.74                  95.80   \n",
       "3          50.63              90.47                  85.84   \n",
       "4          34.08              74.71                  89.67   \n",
       "\n",
       "   prob_sobrevivencia_60  ...        pia  pia_10_14  pia_15_17  pia_18_mais  \\\n",
       "0                  68.68  ...        NaN        NaN        NaN          NaN   \n",
       "1                  74.18  ...  1064105.0   159442.0    95106.0     809557.0   \n",
       "2                  86.77  ...  1294956.0   156276.0    95920.0    1042760.0   \n",
       "3                  69.37  ...        NaN        NaN        NaN          NaN   \n",
       "4                  74.77  ...   408802.0    67274.0    40268.0     301260.0   \n",
       "\n",
       "   indice_escolaridade  indice_frequencia_escolar   idhm  idhm_e  idhm_l  \\\n",
       "0                0.209                      0.168  0.407   0.181   0.635   \n",
       "1                0.301                      0.369  0.537   0.345   0.688   \n",
       "2                0.480                      0.633  0.690   0.577   0.800   \n",
       "3                0.228                      0.154  0.402   0.176   0.645   \n",
       "4                0.318                      0.328  0.517   0.325   0.694   \n",
       "\n",
       "   idhm_r  \n",
       "0   0.585  \n",
       "1   0.654  \n",
       "2   0.712  \n",
       "3   0.574  \n",
       "4   0.612  \n",
       "\n",
       "[5 rows x 231 columns]"
      ]
     },
     "execution_count": 199,
     "metadata": {},
     "output_type": "execute_result"
    }
   ],
   "source": [
    "df_adh = pd.read_csv(\"dados_adh_estados\")\n",
    "df_adh.head()"
   ]
  },
  {
   "cell_type": "markdown",
   "id": "58f60475-efd9-4222-9cfc-37dd4bd2f985",
   "metadata": {},
   "source": [
    "## Análise dos Dados"
   ]
  },
  {
   "cell_type": "code",
   "execution_count": null,
   "id": "91c76493-1095-4018-8bb8-b5bf30f5f246",
   "metadata": {},
   "outputs": [],
   "source": [
    "import numpy as np\n",
    "import seaborn as sns\n",
    "import matplotlib.pyplot as plt"
   ]
  },
  {
   "cell_type": "markdown",
   "id": "108c5363-7acb-42f2-b094-3f3fee79989f",
   "metadata": {},
   "source": [
    "### Preparações"
   ]
  },
  {
   "cell_type": "markdown",
   "id": "0840fa18-5710-40e8-8f14-28a16cc7a372",
   "metadata": {},
   "source": [
    "Listagem das unidades federativas para usar depois:"
   ]
  },
  {
   "cell_type": "code",
   "execution_count": 59,
   "id": "88e3b100-93c4-4b6c-837f-0085651b18d3",
   "metadata": {},
   "outputs": [],
   "source": [
    "unidades_federativas = df_ideb['estado_abrev'].unique()"
   ]
  },
  {
   "cell_type": "code",
   "execution_count": 60,
   "id": "a0fd036e-1b07-4ba3-9b2b-f9bc6a168e5d",
   "metadata": {},
   "outputs": [
    {
     "data": {
      "text/plain": [
       "array(['AC', 'AL', 'AM', 'AP', 'BA', 'CE', 'DF', 'ES', 'GO', 'MA', 'MG',\n",
       "       'MS', 'MT', 'PA', 'PB', 'PE', 'PI', 'PR', 'RJ', 'RN', 'RO', 'RR',\n",
       "       'RS', 'SC', 'SE', 'SP', 'TO'], dtype=object)"
      ]
     },
     "execution_count": 60,
     "metadata": {},
     "output_type": "execute_result"
    }
   ],
   "source": [
    "unidades_federativas"
   ]
  },
  {
   "cell_type": "markdown",
   "id": "36ad710f-4053-4029-ac3f-e39407b5ca00",
   "metadata": {},
   "source": [
    "Vou fazer um dicionário dos estados para a cor da região que estão."
   ]
  },
  {
   "cell_type": "code",
   "execution_count": 61,
   "id": "866d1630-649c-4440-b08f-4d087c5a0c8d",
   "metadata": {},
   "outputs": [],
   "source": [
    "estado2regiao = {'AC':'Norte', 'AL':'Nordeste', 'AM':'Norte', 'AP':'Norte', 'BA':'Nordeste', 'CE':'Nordeste', 'DF':'Centro-Oeste', 'ES':'Sudeste', 'GO':'Centro-Oeste', 'MA':'Nordeste', 'MG':'Sudeste','MS':'Centro-Oeste', 'MT':'Centro-Oeste', 'PA':'Norte', 'PB':'Nordeste', 'PE':'Nordeste', 'PI':'Nordeste', 'PR':'Sul', 'RJ':'Sudeste', 'RN':'Nordeste', 'RO':'Norte', 'RR':'Norte', 'RS':'Sul', 'SC':'Sul', 'SE':'Nordeste', 'SP':'Sudeste', 'TO':'Norte'}"
   ]
  },
  {
   "cell_type": "code",
   "execution_count": 67,
   "id": "896c07f5-b82c-4278-844a-4d079c5a893a",
   "metadata": {},
   "outputs": [],
   "source": [
    "regiao2cor = {'Norte':'#e41a1c', 'Nordeste':'#377eb8', 'Sul':'#4daf4a', 'Sudeste':'#984ea3', 'Centro-Oeste':'#ff9900'}"
   ]
  },
  {
   "cell_type": "code",
   "execution_count": 68,
   "id": "52261555-78aa-41d7-964b-d1240377805f",
   "metadata": {},
   "outputs": [],
   "source": [
    "estado2cor = {}\n",
    "for k in unidades_federativas:\n",
    "    estado2cor[k] = regiao2cor[estado2regiao[k]]"
   ]
  },
  {
   "cell_type": "markdown",
   "id": "d4f79a30-8c25-4b54-ba56-2cb75208df66",
   "metadata": {},
   "source": [
    "### Comparativo entre as IDEB's"
   ]
  },
  {
   "cell_type": "code",
   "execution_count": 11,
   "id": "1ab7ad66-978e-4701-bef9-a3fceb3f4340",
   "metadata": {},
   "outputs": [
    {
     "data": {
      "text/plain": [
       "estado_abrev  rede      ensino       anos_escolares  ano \n",
       "AC            estadual  fundamental  finais (6-9)    2005    3.5\n",
       "                                                     2007    3.8\n",
       "                                                     2009    4.1\n",
       "                                                     2011    4.2\n",
       "                                                     2013    4.4\n",
       "Name: ideb, dtype: float64"
      ]
     },
     "execution_count": 11,
     "metadata": {},
     "output_type": "execute_result"
    }
   ],
   "source": [
    "df_ideb_indice = df_ideb.set_index(['estado_abrev','rede','ensino','anos_escolares', 'ano']).sort_index()['ideb']\n",
    "df_ideb_indice.head()"
   ]
  },
  {
   "cell_type": "markdown",
   "id": "508df754-d271-47eb-8425-6d3ad13fc8be",
   "metadata": {},
   "source": [
    "Analisando o comparativo do IDEB dos estados no ano de 2005, vemos **um nível muito acima para estados do Sul e Sudeste**, com alguns do Centro-Oeste também entre os melhores. Porém, **estados do nordeste e Norte estão claramente nas últimas posições do índice**, revelando uma desigualdade muito conhecida pelos brasileiros."
   ]
  },
  {
   "cell_type": "code",
   "execution_count": 87,
   "id": "e89580d3-6a7c-4aee-9a29-1713f8658cb8",
   "metadata": {},
   "outputs": [
    {
     "data": {
      "text/plain": [
       "<BarContainer object of 27 artists>"
      ]
     },
     "execution_count": 87,
     "metadata": {},
     "output_type": "execute_result"
    },
    {
     "data": {
      "image/png": "[encoded data removed]",
      "text/plain": [
       "<Figure size 1080x360 with 1 Axes>"
      ]
     },
     "metadata": {
      "needs_background": "light"
     },
     "output_type": "display_data"
    }
   ],
   "source": [
    "plt.figure(figsize=(15, 5))\n",
    "\n",
    "ideb2005 = []\n",
    "for uf in unidades_federativas:\n",
    "    dados = df_ideb_indice[uf]['total']['fundamental']['iniciais (1-5)']\n",
    "    ideb2005.append(dados[2005])\n",
    "    \n",
    "plt.bar(unidades_federativas, ideb2005, color=[estado2cor[k] for k in unidades_federativas])"
   ]
  },
  {
   "cell_type": "markdown",
   "id": "058315a5-2502-4578-8877-162fc8c636eb",
   "metadata": {},
   "source": [
    "Fazendo a mesma análise para o ano de 2019, vemos uma **forte melhora na desigualdade entre os estados**, tendo por exemplo **o Ceará, como um dos maiores índices do país**."
   ]
  },
  {
   "cell_type": "code",
   "execution_count": 88,
   "id": "547647b5-d00b-446c-b293-5f5a7fac77b2",
   "metadata": {},
   "outputs": [
    {
     "data": {
      "text/plain": [
       "<BarContainer object of 27 artists>"
      ]
     },
     "execution_count": 88,
     "metadata": {},
     "output_type": "execute_result"
    },
    {
     "data": {
      "image/png": "[encoded data removed]",
      "text/plain": [
       "<Figure size 1080x360 with 1 Axes>"
      ]
     },
     "metadata": {
      "needs_background": "light"
     },
     "output_type": "display_data"
    }
   ],
   "source": [
    "plt.figure(figsize=(15, 5))\n",
    "\n",
    "ideb2019 = []\n",
    "for uf in unidades_federativas:\n",
    "    dados = df_ideb_indice[uf]['total']['fundamental']['iniciais (1-5)']\n",
    "    ideb2019.append(dados[2019])\n",
    "    \n",
    "plt.bar(unidades_federativas, ideb2019, color=[estado2cor[k] for k in unidades_federativas])"
   ]
  },
  {
   "cell_type": "markdown",
   "id": "32cfb15c-9c4c-4396-b8ba-14bc3039c028",
   "metadata": {},
   "source": [
    "**Para verificar essa diferença de desigualdade, podemos comparar o desvio padrão dos IDEBs de ambos os anos**, que nos diz a quantidade de variação entre elas. Com essa métrica conseguimos ver que de fato houve uma redução da variação."
   ]
  },
  {
   "cell_type": "code",
   "execution_count": 89,
   "id": "a7e76e87-f35e-4431-8b86-8960739ded55",
   "metadata": {},
   "outputs": [
    {
     "data": {
      "text/plain": [
       "0.698852675267395"
      ]
     },
     "execution_count": 89,
     "metadata": {},
     "output_type": "execute_result"
    }
   ],
   "source": [
    "np.std(ideb2005)"
   ]
  },
  {
   "cell_type": "code",
   "execution_count": 90,
   "id": "b5499956-21ca-4edf-9842-02064c0a18fc",
   "metadata": {},
   "outputs": [
    {
     "data": {
      "text/plain": [
       "0.5185449728701349"
      ]
     },
     "execution_count": 90,
     "metadata": {},
     "output_type": "execute_result"
    }
   ],
   "source": [
    "np.std(ideb2019)"
   ]
  },
  {
   "cell_type": "markdown",
   "id": "f1270097-f387-431c-bdc5-09221a86aee3",
   "metadata": {},
   "source": [
    "### Evolução das IDEB's"
   ]
  },
  {
   "cell_type": "markdown",
   "id": "103591ed-cf23-45c0-917b-6a164fa61ae8",
   "metadata": {},
   "source": [
    "Comparativo da evolução dos ideb's de cada estado para o ensino fundamental inicial."
   ]
  },
  {
   "cell_type": "code",
   "execution_count": 76,
   "id": "9ce1e0e3-3286-47b2-a291-dcdcf8d4097a",
   "metadata": {},
   "outputs": [
    {
     "data": {
      "text/plain": [
       "<matplotlib.legend.Legend at 0x1b4a2dfe160>"
      ]
     },
     "execution_count": 76,
     "metadata": {},
     "output_type": "execute_result"
    },
    {
     "data": {
      "image/png": "[encoded data removed]",
      "text/plain": [
       "<Figure size 720x504 with 1 Axes>"
      ]
     },
     "metadata": {
      "needs_background": "light"
     },
     "output_type": "display_data"
    }
   ],
   "source": [
    "plt.figure(figsize=(10, 7))\n",
    "\n",
    "for uf in unidades_federativas:\n",
    "    df_ideb_indice[uf]['total']['fundamental']['iniciais (1-5)'].plot()\n",
    "\n",
    "plt.legend(df_ideb['estado_abrev'].unique(), bbox_to_anchor=(1.1, 1))"
   ]
  },
  {
   "cell_type": "markdown",
   "id": "4f7e5f27-f24a-4d85-b110-242e198e6951",
   "metadata": {},
   "source": [
    "Comparativo da evolução dos ideb's de cada estado para o ensino fundamental final."
   ]
  },
  {
   "cell_type": "code",
   "execution_count": 78,
   "id": "a2fca55d-f6f6-43ea-80e7-6b0a83d6ae05",
   "metadata": {},
   "outputs": [
    {
     "data": {
      "text/plain": [
       "<matplotlib.legend.Legend at 0x1b4a3362af0>"
      ]
     },
     "execution_count": 78,
     "metadata": {},
     "output_type": "execute_result"
    },
    {
     "data": {
      "image/png": "[encoded data removed]",
      "text/plain": [
       "<Figure size 720x504 with 1 Axes>"
      ]
     },
     "metadata": {
      "needs_background": "light"
     },
     "output_type": "display_data"
    }
   ],
   "source": [
    "plt.figure(figsize=(10, 7))\n",
    "\n",
    "for uf in unidades_federativas:\n",
    "    df_ideb_indice[uf]['total']['fundamental']['finais (6-9)'].plot()\n",
    "\n",
    "plt.legend(df_ideb['estado_abrev'].unique(), bbox_to_anchor=(1.1, 1))"
   ]
  },
  {
   "cell_type": "markdown",
   "id": "f3906a33-b3a0-4802-9571-2c2428b89751",
   "metadata": {},
   "source": [
    "Comparativo da evolução dos ideb's de cada estado para o ensino médio."
   ]
  },
  {
   "cell_type": "code",
   "execution_count": 97,
   "id": "227223f7-866c-4894-9e2a-6081952682d7",
   "metadata": {},
   "outputs": [
    {
     "data": {
      "text/plain": [
       "<matplotlib.legend.Legend at 0x1b4a51e57f0>"
      ]
     },
     "execution_count": 97,
     "metadata": {},
     "output_type": "execute_result"
    },
    {
     "data": {
      "image/png": "[encoded data removed]",
      "text/plain": [
       "<Figure size 720x504 with 1 Axes>"
      ]
     },
     "metadata": {
      "needs_background": "light"
     },
     "output_type": "display_data"
    }
   ],
   "source": [
    "plt.figure(figsize=(10, 7))\n",
    "\n",
    "for uf in unidades_federativas:\n",
    "    df_ideb_indice[uf]['total']['medio']['todos (1-4)'].plot()\n",
    "\n",
    "plt.legend(df_ideb['estado_abrev'].unique(), bbox_to_anchor=(1.1, 1))"
   ]
  },
  {
   "cell_type": "markdown",
   "id": "3cd64054-0dba-4c9d-8797-ac2fc9666ef0",
   "metadata": {},
   "source": [
    "Também podemos ver a taxa de crescimento do IDEB de 2019 em relação a 2005.\n",
    "\n",
    "Começamos com o nivel fundamental inicial, em que vemos que uma **clara maior evolução em estados do nordeste, e em seguida, do norte**."
   ]
  },
  {
   "cell_type": "code",
   "execution_count": 98,
   "id": "435c7309-a4d6-4c87-892f-b4f7d8351a8c",
   "metadata": {},
   "outputs": [
    {
     "data": {
      "text/plain": [
       "<BarContainer object of 27 artists>"
      ]
     },
     "execution_count": 98,
     "metadata": {},
     "output_type": "execute_result"
    },
    {
     "data": {
      "image/png": "[encoded data removed]",
      "text/plain": [
       "<Figure size 1080x360 with 1 Axes>"
      ]
     },
     "metadata": {
      "needs_background": "light"
     },
     "output_type": "display_data"
    }
   ],
   "source": [
    "plt.figure(figsize=(15, 5))\n",
    "\n",
    "crescimento_fund1 = []\n",
    "for uf in unidades_federativas:\n",
    "    dados = df_ideb_indice[uf]['total']['fundamental']['iniciais (1-5)']\n",
    "    crescimento_fund1.append(dados[2019]/dados[2005]*100)\n",
    "    \n",
    "plt.bar(unidades_federativas, crescimento_fund1, color=[estado2cor[k] for k in unidades_federativas])"
   ]
  },
  {
   "cell_type": "markdown",
   "id": "7bfe8700-8eef-4098-a5eb-78086af27b37",
   "metadata": {},
   "source": [
    "Em seguida, o fundamental final, que **também traz um avanço maior para os estados do nordeste**."
   ]
  },
  {
   "cell_type": "code",
   "execution_count": 99,
   "id": "7eb3c7ba-020d-4e93-a4f1-8746adee4839",
   "metadata": {},
   "outputs": [
    {
     "data": {
      "text/plain": [
       "<BarContainer object of 27 artists>"
      ]
     },
     "execution_count": 99,
     "metadata": {},
     "output_type": "execute_result"
    },
    {
     "data": {
      "image/png": "[encoded data removed]",
      "text/plain": [
       "<Figure size 1080x360 with 1 Axes>"
      ]
     },
     "metadata": {
      "needs_background": "light"
     },
     "output_type": "display_data"
    }
   ],
   "source": [
    "plt.figure(figsize=(15, 5))\n",
    "\n",
    "crescimento_fund2 = []\n",
    "for uf in unidades_federativas:\n",
    "    dados = df_ideb_indice[uf]['total']['fundamental']['finais (6-9)']\n",
    "    crescimento_fund2.append(dados[2019]/dados[2005]*100)\n",
    "    \n",
    "plt.bar(unidades_federativas, crescimento_fund2, color=[estado2cor[k] for k in unidades_federativas])"
   ]
  },
  {
   "cell_type": "markdown",
   "id": "d9fe70c3-fd6d-437c-8d74-be5f14e898ae",
   "metadata": {},
   "source": [
    "Por fim, o comparativo do ensino médio, que nos mostra uma **menor diferença de melhora entre os estados**, o que pode ter a ver com adolescentes trabalhando por necessidade e evasão escolar. Para entender melhor esses dados, farei essa análise posteriormente."
   ]
  },
  {
   "cell_type": "code",
   "execution_count": 100,
   "id": "760a22b9-2287-41d3-a321-1d746d569a37",
   "metadata": {},
   "outputs": [
    {
     "data": {
      "text/plain": [
       "<BarContainer object of 27 artists>"
      ]
     },
     "execution_count": 100,
     "metadata": {},
     "output_type": "execute_result"
    },
    {
     "data": {
      "image/png": "[encoded data removed]",
      "text/plain": [
       "<Figure size 1080x360 with 1 Axes>"
      ]
     },
     "metadata": {
      "needs_background": "light"
     },
     "output_type": "display_data"
    }
   ],
   "source": [
    "plt.figure(figsize=(15, 5))\n",
    "\n",
    "crescimento_med = []\n",
    "for uf in unidades_federativas:\n",
    "    dados = df_ideb_indice[uf]['total']['medio']['todos (1-4)']\n",
    "    crescimento_med.append(dados[2019]/dados[2005]*100)\n",
    "    \n",
    "plt.bar(unidades_federativas, crescimento_med, color=[estado2cor[k] for k in unidades_federativas])"
   ]
  },
  {
   "cell_type": "markdown",
   "id": "0013bff7-35e7-4164-98b4-ee00e98b7246",
   "metadata": {},
   "source": [
    "Outro ponto que podemos notar é o avanço médio dos estudantes de ensino médio foi consideravelmente menor que os anteriores, algo que tentaremos entender posteriormente através de população economicamente ativa e evasão escolar. A seguir vemos que **o avanço médio do ensino médio foi quase 40 pontos percentuais menor que do fundamental inicial**."
   ]
  },
  {
   "cell_type": "code",
   "execution_count": 102,
   "id": "c316af77-53aa-4ba7-9d4a-baf877f83a30",
   "metadata": {},
   "outputs": [
    {
     "data": {
      "text/plain": [
       "165.10482489382247"
      ]
     },
     "execution_count": 102,
     "metadata": {},
     "output_type": "execute_result"
    }
   ],
   "source": [
    "np.mean(crescimento_fund1)"
   ]
  },
  {
   "cell_type": "code",
   "execution_count": 103,
   "id": "3c8078c3-1ba8-47bf-9d67-45eaa50ce9f0",
   "metadata": {},
   "outputs": [
    {
     "data": {
      "text/plain": [
       "144.33284584792125"
      ]
     },
     "execution_count": 103,
     "metadata": {},
     "output_type": "execute_result"
    }
   ],
   "source": [
    "np.mean(crescimento_fund2)"
   ]
  },
  {
   "cell_type": "code",
   "execution_count": 104,
   "id": "1433354a-1a41-4877-be0e-338c97798a0a",
   "metadata": {},
   "outputs": [
    {
     "data": {
      "text/plain": [
       "126.8918220837372"
      ]
     },
     "execution_count": 104,
     "metadata": {},
     "output_type": "execute_result"
    }
   ],
   "source": [
    "np.mean(crescimento_med)"
   ]
  },
  {
   "cell_type": "markdown",
   "id": "beb4289a-2301-4f55-b9be-9c6d639ec466",
   "metadata": {},
   "source": [
    "### Análise da Remuneração dos Profissionais de Saúde"
   ]
  },
  {
   "cell_type": "markdown",
   "id": "1aafcecb-7922-497a-8e9b-a994c42418f7",
   "metadata": {},
   "source": [
    "Uma dúvida que tive, foi quanto a **relação do crescimento do índice de desenvolvimento da educação básica (ideb) com a remuneração dos profissionais de educação**, que consta na tabela *'br_inep_indicadores_educacionais.uf_remuneracao_docentes'*.\n",
    "\n",
    "Já tínhamos baixado essa base anteriormente, precisamos apenas fazer o recorte dos dados que queremos, que para uma melhor comparação, será a **média da remuneração para 40 horas semanais**."
   ]
  },
  {
   "cell_type": "code",
   "execution_count": 131,
   "id": "b9594830-674e-45ea-8bd0-92eb26489d47",
   "metadata": {},
   "outputs": [
    {
     "data": {
      "text/plain": [
       "sigla_uf  rede      escolaridade  ano \n",
       "AC        estadual  sem superior  2014    2437.358\n",
       "                                  2015    2963.006\n",
       "                                  2016    2580.921\n",
       "                                  2017    2893.745\n",
       "                    superior      2014    3996.073\n",
       "Name: rem_media_40_horas_semanais, dtype: float64"
      ]
     },
     "execution_count": 131,
     "metadata": {},
     "output_type": "execute_result"
    }
   ],
   "source": [
    "df_remuneracao_media40h = df_remuneracao.set_index(['sigla_uf','rede','escolaridade','ano']).sort_index()['rem_media_40_horas_semanais']\n",
    "df_remuneracao_media40h.head()"
   ]
  },
  {
   "cell_type": "markdown",
   "id": "d07b3e19-7646-4d37-b5b1-bbd809b608b1",
   "metadata": {},
   "source": [
    "**Estados com as maiores remunerações por rede em 2017:**"
   ]
  },
  {
   "cell_type": "markdown",
   "id": "0a6a6e07-b989-468c-9c97-d749d0acd31e",
   "metadata": {},
   "source": [
    "Para as redes estaduais, fiquei surpreso com o Pará ser disparado o com maiores remunerações de professores, sendo que nas evoluções que vimos do IDEB, o estado não estar com tanto destaque. De modo geral, conseguimos ver um equilíbrio entre os estados na parte inicial, mas no fim, apenas estados da região Norte e Nordeste."
   ]
  },
  {
   "cell_type": "code",
   "execution_count": 176,
   "id": "af4d87a6-ec9d-409e-8257-424d73e19206",
   "metadata": {},
   "outputs": [
    {
     "data": {
      "text/html": [
       "<div>\n",
       "<style scoped>\n",
       "    .dataframe tbody tr th:only-of-type {\n",
       "        vertical-align: middle;\n",
       "    }\n",
       "\n",
       "    .dataframe tbody tr th {\n",
       "        vertical-align: top;\n",
       "    }\n",
       "\n",
       "    .dataframe thead th {\n",
       "        text-align: right;\n",
       "    }\n",
       "</style>\n",
       "<table border=\"1\" class=\"dataframe\">\n",
       "  <thead>\n",
       "    <tr style=\"text-align: right;\">\n",
       "      <th></th>\n",
       "      <th>regiao</th>\n",
       "      <th>remuneracao</th>\n",
       "    </tr>\n",
       "  </thead>\n",
       "  <tbody>\n",
       "    <tr>\n",
       "      <th>PA</th>\n",
       "      <td>Norte</td>\n",
       "      <td>10909.700</td>\n",
       "    </tr>\n",
       "    <tr>\n",
       "      <th>DF</th>\n",
       "      <td>Centro-Oeste</td>\n",
       "      <td>7849.158</td>\n",
       "    </tr>\n",
       "    <tr>\n",
       "      <th>MS</th>\n",
       "      <td>Centro-Oeste</td>\n",
       "      <td>7475.339</td>\n",
       "    </tr>\n",
       "    <tr>\n",
       "      <th>PR</th>\n",
       "      <td>Sul</td>\n",
       "      <td>6968.915</td>\n",
       "    </tr>\n",
       "    <tr>\n",
       "      <th>MA</th>\n",
       "      <td>Nordeste</td>\n",
       "      <td>6101.116</td>\n",
       "    </tr>\n",
       "    <tr>\n",
       "      <th>BA</th>\n",
       "      <td>Nordeste</td>\n",
       "      <td>5979.784</td>\n",
       "    </tr>\n",
       "    <tr>\n",
       "      <th>RR</th>\n",
       "      <td>Norte</td>\n",
       "      <td>5836.303</td>\n",
       "    </tr>\n",
       "    <tr>\n",
       "      <th>MG</th>\n",
       "      <td>Sudeste</td>\n",
       "      <td>4678.345</td>\n",
       "    </tr>\n",
       "    <tr>\n",
       "      <th>SC</th>\n",
       "      <td>Sul</td>\n",
       "      <td>4542.803</td>\n",
       "    </tr>\n",
       "    <tr>\n",
       "      <th>RN</th>\n",
       "      <td>Nordeste</td>\n",
       "      <td>4102.030</td>\n",
       "    </tr>\n",
       "    <tr>\n",
       "      <th>SE</th>\n",
       "      <td>Nordeste</td>\n",
       "      <td>4063.498</td>\n",
       "    </tr>\n",
       "    <tr>\n",
       "      <th>AC</th>\n",
       "      <td>Norte</td>\n",
       "      <td>4040.033</td>\n",
       "    </tr>\n",
       "    <tr>\n",
       "      <th>GO</th>\n",
       "      <td>Centro-Oeste</td>\n",
       "      <td>3831.865</td>\n",
       "    </tr>\n",
       "    <tr>\n",
       "      <th>TO</th>\n",
       "      <td>Norte</td>\n",
       "      <td>3778.500</td>\n",
       "    </tr>\n",
       "    <tr>\n",
       "      <th>RJ</th>\n",
       "      <td>Sudeste</td>\n",
       "      <td>3680.870</td>\n",
       "    </tr>\n",
       "    <tr>\n",
       "      <th>SP</th>\n",
       "      <td>Sudeste</td>\n",
       "      <td>3675.898</td>\n",
       "    </tr>\n",
       "    <tr>\n",
       "      <th>ES</th>\n",
       "      <td>Sudeste</td>\n",
       "      <td>3559.741</td>\n",
       "    </tr>\n",
       "    <tr>\n",
       "      <th>RS</th>\n",
       "      <td>Sul</td>\n",
       "      <td>3229.412</td>\n",
       "    </tr>\n",
       "    <tr>\n",
       "      <th>AM</th>\n",
       "      <td>Norte</td>\n",
       "      <td>3228.855</td>\n",
       "    </tr>\n",
       "    <tr>\n",
       "      <th>PI</th>\n",
       "      <td>Nordeste</td>\n",
       "      <td>3220.805</td>\n",
       "    </tr>\n",
       "    <tr>\n",
       "      <th>MT</th>\n",
       "      <td>Centro-Oeste</td>\n",
       "      <td>3183.859</td>\n",
       "    </tr>\n",
       "    <tr>\n",
       "      <th>CE</th>\n",
       "      <td>Nordeste</td>\n",
       "      <td>3069.217</td>\n",
       "    </tr>\n",
       "    <tr>\n",
       "      <th>PE</th>\n",
       "      <td>Nordeste</td>\n",
       "      <td>2997.575</td>\n",
       "    </tr>\n",
       "    <tr>\n",
       "      <th>RO</th>\n",
       "      <td>Norte</td>\n",
       "      <td>2765.168</td>\n",
       "    </tr>\n",
       "    <tr>\n",
       "      <th>PB</th>\n",
       "      <td>Nordeste</td>\n",
       "      <td>2533.068</td>\n",
       "    </tr>\n",
       "    <tr>\n",
       "      <th>AL</th>\n",
       "      <td>Nordeste</td>\n",
       "      <td>2287.790</td>\n",
       "    </tr>\n",
       "    <tr>\n",
       "      <th>AP</th>\n",
       "      <td>Norte</td>\n",
       "      <td>1815.708</td>\n",
       "    </tr>\n",
       "  </tbody>\n",
       "</table>\n",
       "</div>"
      ],
      "text/plain": [
       "          regiao  remuneracao\n",
       "PA         Norte    10909.700\n",
       "DF  Centro-Oeste     7849.158\n",
       "MS  Centro-Oeste     7475.339\n",
       "PR           Sul     6968.915\n",
       "MA      Nordeste     6101.116\n",
       "BA      Nordeste     5979.784\n",
       "RR         Norte     5836.303\n",
       "MG       Sudeste     4678.345\n",
       "SC           Sul     4542.803\n",
       "RN      Nordeste     4102.030\n",
       "SE      Nordeste     4063.498\n",
       "AC         Norte     4040.033\n",
       "GO  Centro-Oeste     3831.865\n",
       "TO         Norte     3778.500\n",
       "RJ       Sudeste     3680.870\n",
       "SP       Sudeste     3675.898\n",
       "ES       Sudeste     3559.741\n",
       "RS           Sul     3229.412\n",
       "AM         Norte     3228.855\n",
       "PI      Nordeste     3220.805\n",
       "MT  Centro-Oeste     3183.859\n",
       "CE      Nordeste     3069.217\n",
       "PE      Nordeste     2997.575\n",
       "RO         Norte     2765.168\n",
       "PB      Nordeste     2533.068\n",
       "AL      Nordeste     2287.790\n",
       "AP         Norte     1815.708"
      ]
     },
     "execution_count": 176,
     "metadata": {},
     "output_type": "execute_result"
    }
   ],
   "source": [
    "rem_estadual = []\n",
    "for uf in unidades_federativas:\n",
    "    rem_estadual.append(df_remuneracao_media40h[uf]['estadual']['total'][2017])\n",
    "regioes = [estado2regiao[k] for k in unidades_federativas]\n",
    "\n",
    "df = pd.DataFrame({'regiao': regioes, 'remuneracao': rem_estadual}, index=unidades_federativas)\n",
    "df.sort_values(by='remuneracao', ascending=False)"
   ]
  },
  {
   "cell_type": "markdown",
   "id": "428bf5b8-a765-4dab-8bb4-f08fabce853d",
   "metadata": {},
   "source": [
    "Para as redes de escolas públicas, o Pará cai consideravelmente, dando espaço para mais estados do Centro-Oeste e Sul. Nesse grupo já vemos uma **grande desigualdade, com estados do Norte e Nordeste ocupando praticamente todas as posições da metade final**."
   ]
  },
  {
   "cell_type": "code",
   "execution_count": 177,
   "id": "7d4fcc1e-0ea4-425c-b782-43803b214665",
   "metadata": {},
   "outputs": [
    {
     "data": {
      "text/html": [
       "<div>\n",
       "<style scoped>\n",
       "    .dataframe tbody tr th:only-of-type {\n",
       "        vertical-align: middle;\n",
       "    }\n",
       "\n",
       "    .dataframe tbody tr th {\n",
       "        vertical-align: top;\n",
       "    }\n",
       "\n",
       "    .dataframe thead th {\n",
       "        text-align: right;\n",
       "    }\n",
       "</style>\n",
       "<table border=\"1\" class=\"dataframe\">\n",
       "  <thead>\n",
       "    <tr style=\"text-align: right;\">\n",
       "      <th></th>\n",
       "      <th>regiao</th>\n",
       "      <th>remuneracao</th>\n",
       "    </tr>\n",
       "  </thead>\n",
       "  <tbody>\n",
       "    <tr>\n",
       "      <th>DF</th>\n",
       "      <td>Centro-Oeste</td>\n",
       "      <td>7938.489</td>\n",
       "    </tr>\n",
       "    <tr>\n",
       "      <th>MS</th>\n",
       "      <td>Centro-Oeste</td>\n",
       "      <td>5906.214</td>\n",
       "    </tr>\n",
       "    <tr>\n",
       "      <th>PR</th>\n",
       "      <td>Sul</td>\n",
       "      <td>5410.372</td>\n",
       "    </tr>\n",
       "    <tr>\n",
       "      <th>PA</th>\n",
       "      <td>Norte</td>\n",
       "      <td>5335.048</td>\n",
       "    </tr>\n",
       "    <tr>\n",
       "      <th>RR</th>\n",
       "      <td>Norte</td>\n",
       "      <td>5052.584</td>\n",
       "    </tr>\n",
       "    <tr>\n",
       "      <th>GO</th>\n",
       "      <td>Centro-Oeste</td>\n",
       "      <td>4662.503</td>\n",
       "    </tr>\n",
       "    <tr>\n",
       "      <th>RJ</th>\n",
       "      <td>Sudeste</td>\n",
       "      <td>4581.894</td>\n",
       "    </tr>\n",
       "    <tr>\n",
       "      <th>RN</th>\n",
       "      <td>Nordeste</td>\n",
       "      <td>4496.476</td>\n",
       "    </tr>\n",
       "    <tr>\n",
       "      <th>SP</th>\n",
       "      <td>Sudeste</td>\n",
       "      <td>4490.219</td>\n",
       "    </tr>\n",
       "    <tr>\n",
       "      <th>RS</th>\n",
       "      <td>Sul</td>\n",
       "      <td>4479.837</td>\n",
       "    </tr>\n",
       "    <tr>\n",
       "      <th>MG</th>\n",
       "      <td>Sudeste</td>\n",
       "      <td>4419.748</td>\n",
       "    </tr>\n",
       "    <tr>\n",
       "      <th>SC</th>\n",
       "      <td>Sul</td>\n",
       "      <td>4398.218</td>\n",
       "    </tr>\n",
       "    <tr>\n",
       "      <th>SE</th>\n",
       "      <td>Nordeste</td>\n",
       "      <td>4285.086</td>\n",
       "    </tr>\n",
       "    <tr>\n",
       "      <th>ES</th>\n",
       "      <td>Sudeste</td>\n",
       "      <td>4253.733</td>\n",
       "    </tr>\n",
       "    <tr>\n",
       "      <th>BA</th>\n",
       "      <td>Nordeste</td>\n",
       "      <td>4252.545</td>\n",
       "    </tr>\n",
       "    <tr>\n",
       "      <th>MA</th>\n",
       "      <td>Nordeste</td>\n",
       "      <td>3913.535</td>\n",
       "    </tr>\n",
       "    <tr>\n",
       "      <th>MT</th>\n",
       "      <td>Centro-Oeste</td>\n",
       "      <td>3801.233</td>\n",
       "    </tr>\n",
       "    <tr>\n",
       "      <th>TO</th>\n",
       "      <td>Norte</td>\n",
       "      <td>3669.204</td>\n",
       "    </tr>\n",
       "    <tr>\n",
       "      <th>AC</th>\n",
       "      <td>Norte</td>\n",
       "      <td>3438.921</td>\n",
       "    </tr>\n",
       "    <tr>\n",
       "      <th>CE</th>\n",
       "      <td>Nordeste</td>\n",
       "      <td>3389.307</td>\n",
       "    </tr>\n",
       "    <tr>\n",
       "      <th>AM</th>\n",
       "      <td>Norte</td>\n",
       "      <td>3302.044</td>\n",
       "    </tr>\n",
       "    <tr>\n",
       "      <th>PE</th>\n",
       "      <td>Nordeste</td>\n",
       "      <td>3296.853</td>\n",
       "    </tr>\n",
       "    <tr>\n",
       "      <th>PI</th>\n",
       "      <td>Nordeste</td>\n",
       "      <td>3282.067</td>\n",
       "    </tr>\n",
       "    <tr>\n",
       "      <th>RO</th>\n",
       "      <td>Norte</td>\n",
       "      <td>3225.375</td>\n",
       "    </tr>\n",
       "    <tr>\n",
       "      <th>AL</th>\n",
       "      <td>Nordeste</td>\n",
       "      <td>3200.761</td>\n",
       "    </tr>\n",
       "    <tr>\n",
       "      <th>PB</th>\n",
       "      <td>Nordeste</td>\n",
       "      <td>2876.952</td>\n",
       "    </tr>\n",
       "    <tr>\n",
       "      <th>AP</th>\n",
       "      <td>Norte</td>\n",
       "      <td>2299.423</td>\n",
       "    </tr>\n",
       "  </tbody>\n",
       "</table>\n",
       "</div>"
      ],
      "text/plain": [
       "          regiao  remuneracao\n",
       "DF  Centro-Oeste     7938.489\n",
       "MS  Centro-Oeste     5906.214\n",
       "PR           Sul     5410.372\n",
       "PA         Norte     5335.048\n",
       "RR         Norte     5052.584\n",
       "GO  Centro-Oeste     4662.503\n",
       "RJ       Sudeste     4581.894\n",
       "RN      Nordeste     4496.476\n",
       "SP       Sudeste     4490.219\n",
       "RS           Sul     4479.837\n",
       "MG       Sudeste     4419.748\n",
       "SC           Sul     4398.218\n",
       "SE      Nordeste     4285.086\n",
       "ES       Sudeste     4253.733\n",
       "BA      Nordeste     4252.545\n",
       "MA      Nordeste     3913.535\n",
       "MT  Centro-Oeste     3801.233\n",
       "TO         Norte     3669.204\n",
       "AC         Norte     3438.921\n",
       "CE      Nordeste     3389.307\n",
       "AM         Norte     3302.044\n",
       "PE      Nordeste     3296.853\n",
       "PI      Nordeste     3282.067\n",
       "RO         Norte     3225.375\n",
       "AL      Nordeste     3200.761\n",
       "PB      Nordeste     2876.952\n",
       "AP         Norte     2299.423"
      ]
     },
     "execution_count": 177,
     "metadata": {},
     "output_type": "execute_result"
    }
   ],
   "source": [
    "rem_publica = []\n",
    "for uf in unidades_federativas:\n",
    "    rem_publica.append(df_remuneracao_media40h[uf]['publica']['total'][2017])\n",
    "regioes = [estado2regiao[k] for k in unidades_federativas]\n",
    "\n",
    "df = pd.DataFrame({'regiao': regioes, 'remuneracao': rem_publica}, index=unidades_federativas)\n",
    "df.sort_values(by='remuneracao', ascending=False)"
   ]
  },
  {
   "cell_type": "markdown",
   "id": "c50706c3-4e52-4d53-8c69-0b847210e815",
   "metadata": {},
   "source": [
    "Para a rede de escolas privadas, a desigualdade de remuneração é ainda maior, com **praticamente todos os estados do Norte e Nordeste ocupando as últimas posições**. Dentro isso ainda podemos destacar os **estados do Nordeste ocupando todas as posições finais**."
   ]
  },
  {
   "cell_type": "code",
   "execution_count": 178,
   "id": "3705acbe-3a47-42f5-b403-edc7c6651183",
   "metadata": {},
   "outputs": [
    {
     "data": {
      "text/html": [
       "<div>\n",
       "<style scoped>\n",
       "    .dataframe tbody tr th:only-of-type {\n",
       "        vertical-align: middle;\n",
       "    }\n",
       "\n",
       "    .dataframe tbody tr th {\n",
       "        vertical-align: top;\n",
       "    }\n",
       "\n",
       "    .dataframe thead th {\n",
       "        text-align: right;\n",
       "    }\n",
       "</style>\n",
       "<table border=\"1\" class=\"dataframe\">\n",
       "  <thead>\n",
       "    <tr style=\"text-align: right;\">\n",
       "      <th></th>\n",
       "      <th>regiao</th>\n",
       "      <th>remuneracao</th>\n",
       "    </tr>\n",
       "  </thead>\n",
       "  <tbody>\n",
       "    <tr>\n",
       "      <th>DF</th>\n",
       "      <td>Centro-Oeste</td>\n",
       "      <td>5206.483</td>\n",
       "    </tr>\n",
       "    <tr>\n",
       "      <th>SP</th>\n",
       "      <td>Sudeste</td>\n",
       "      <td>3957.408</td>\n",
       "    </tr>\n",
       "    <tr>\n",
       "      <th>RS</th>\n",
       "      <td>Sul</td>\n",
       "      <td>3675.151</td>\n",
       "    </tr>\n",
       "    <tr>\n",
       "      <th>MG</th>\n",
       "      <td>Sudeste</td>\n",
       "      <td>3663.689</td>\n",
       "    </tr>\n",
       "    <tr>\n",
       "      <th>MT</th>\n",
       "      <td>Centro-Oeste</td>\n",
       "      <td>3597.389</td>\n",
       "    </tr>\n",
       "    <tr>\n",
       "      <th>AC</th>\n",
       "      <td>Norte</td>\n",
       "      <td>3435.370</td>\n",
       "    </tr>\n",
       "    <tr>\n",
       "      <th>ES</th>\n",
       "      <td>Sudeste</td>\n",
       "      <td>3365.238</td>\n",
       "    </tr>\n",
       "    <tr>\n",
       "      <th>SC</th>\n",
       "      <td>Sul</td>\n",
       "      <td>3324.407</td>\n",
       "    </tr>\n",
       "    <tr>\n",
       "      <th>MS</th>\n",
       "      <td>Centro-Oeste</td>\n",
       "      <td>3275.058</td>\n",
       "    </tr>\n",
       "    <tr>\n",
       "      <th>PR</th>\n",
       "      <td>Sul</td>\n",
       "      <td>3227.298</td>\n",
       "    </tr>\n",
       "    <tr>\n",
       "      <th>TO</th>\n",
       "      <td>Norte</td>\n",
       "      <td>3213.708</td>\n",
       "    </tr>\n",
       "    <tr>\n",
       "      <th>AM</th>\n",
       "      <td>Norte</td>\n",
       "      <td>3083.625</td>\n",
       "    </tr>\n",
       "    <tr>\n",
       "      <th>RR</th>\n",
       "      <td>Norte</td>\n",
       "      <td>3051.053</td>\n",
       "    </tr>\n",
       "    <tr>\n",
       "      <th>RO</th>\n",
       "      <td>Norte</td>\n",
       "      <td>2972.614</td>\n",
       "    </tr>\n",
       "    <tr>\n",
       "      <th>RJ</th>\n",
       "      <td>Sudeste</td>\n",
       "      <td>2928.573</td>\n",
       "    </tr>\n",
       "    <tr>\n",
       "      <th>GO</th>\n",
       "      <td>Centro-Oeste</td>\n",
       "      <td>2871.229</td>\n",
       "    </tr>\n",
       "    <tr>\n",
       "      <th>PA</th>\n",
       "      <td>Norte</td>\n",
       "      <td>2842.978</td>\n",
       "    </tr>\n",
       "    <tr>\n",
       "      <th>PI</th>\n",
       "      <td>Nordeste</td>\n",
       "      <td>2602.040</td>\n",
       "    </tr>\n",
       "    <tr>\n",
       "      <th>AP</th>\n",
       "      <td>Norte</td>\n",
       "      <td>2458.954</td>\n",
       "    </tr>\n",
       "    <tr>\n",
       "      <th>BA</th>\n",
       "      <td>Nordeste</td>\n",
       "      <td>2451.000</td>\n",
       "    </tr>\n",
       "    <tr>\n",
       "      <th>PE</th>\n",
       "      <td>Nordeste</td>\n",
       "      <td>2314.499</td>\n",
       "    </tr>\n",
       "    <tr>\n",
       "      <th>MA</th>\n",
       "      <td>Nordeste</td>\n",
       "      <td>2192.321</td>\n",
       "    </tr>\n",
       "    <tr>\n",
       "      <th>PB</th>\n",
       "      <td>Nordeste</td>\n",
       "      <td>2176.379</td>\n",
       "    </tr>\n",
       "    <tr>\n",
       "      <th>AL</th>\n",
       "      <td>Nordeste</td>\n",
       "      <td>2146.719</td>\n",
       "    </tr>\n",
       "    <tr>\n",
       "      <th>CE</th>\n",
       "      <td>Nordeste</td>\n",
       "      <td>2034.914</td>\n",
       "    </tr>\n",
       "    <tr>\n",
       "      <th>RN</th>\n",
       "      <td>Nordeste</td>\n",
       "      <td>1909.050</td>\n",
       "    </tr>\n",
       "    <tr>\n",
       "      <th>SE</th>\n",
       "      <td>Nordeste</td>\n",
       "      <td>1804.703</td>\n",
       "    </tr>\n",
       "  </tbody>\n",
       "</table>\n",
       "</div>"
      ],
      "text/plain": [
       "          regiao  remuneracao\n",
       "DF  Centro-Oeste     5206.483\n",
       "SP       Sudeste     3957.408\n",
       "RS           Sul     3675.151\n",
       "MG       Sudeste     3663.689\n",
       "MT  Centro-Oeste     3597.389\n",
       "AC         Norte     3435.370\n",
       "ES       Sudeste     3365.238\n",
       "SC           Sul     3324.407\n",
       "MS  Centro-Oeste     3275.058\n",
       "PR           Sul     3227.298\n",
       "TO         Norte     3213.708\n",
       "AM         Norte     3083.625\n",
       "RR         Norte     3051.053\n",
       "RO         Norte     2972.614\n",
       "RJ       Sudeste     2928.573\n",
       "GO  Centro-Oeste     2871.229\n",
       "PA         Norte     2842.978\n",
       "PI      Nordeste     2602.040\n",
       "AP         Norte     2458.954\n",
       "BA      Nordeste     2451.000\n",
       "PE      Nordeste     2314.499\n",
       "MA      Nordeste     2192.321\n",
       "PB      Nordeste     2176.379\n",
       "AL      Nordeste     2146.719\n",
       "CE      Nordeste     2034.914\n",
       "RN      Nordeste     1909.050\n",
       "SE      Nordeste     1804.703"
      ]
     },
     "execution_count": 178,
     "metadata": {},
     "output_type": "execute_result"
    }
   ],
   "source": [
    "rem_privada = []\n",
    "for uf in unidades_federativas:\n",
    "    rem_privada.append(df_remuneracao_media40h[uf]['privada']['total'][2017])\n",
    "regioes = [estado2regiao[k] for k in unidades_federativas]\n",
    "\n",
    "df = pd.DataFrame({'regiao': regioes, 'remuneracao': rem_privada}, index=unidades_federativas)\n",
    "df.sort_values(by='remuneracao', ascending=False)"
   ]
  },
  {
   "cell_type": "markdown",
   "id": "569e5084-778f-4eb0-bc44-e88c2ccafe25",
   "metadata": {},
   "source": [
    "**Com esses ranqueamentos, podemos ainda ver uma grande desigualdade salarial dos profissionais de educação entre os estados do país, primordialmente com os estados do Norte e, principalmente, o Nordeste. Isso gera uma grande preocupação, visto que os professores são a base da educação, e sem uma remuneração adequada se torna extremamente difícil incentivar a melhora educacional desses estados.**"
   ]
  },
  {
   "cell_type": "markdown",
   "id": "9aa7ed59-8ebc-4031-95ab-b921a41c5715",
   "metadata": {},
   "source": [
    "Outro ponto que podemos observar é a **taxa de crescimento das remunerações entre o ano de 2017 e 2014**."
   ]
  },
  {
   "cell_type": "markdown",
   "id": "265b4646-b2cc-49f7-a98a-c7da6ec849b5",
   "metadata": {},
   "source": [
    "Felizmente, podemos ver que **há uma distribuição mais uniforme do crescimento salarial entre as regiões**, com estados do Norde e Nordeste aparecendo em todas as posições do gráfico. Podemos também **destacar o crescimento do Rio Grande do Norte, que foi o maior do período**."
   ]
  },
  {
   "cell_type": "code",
   "execution_count": 173,
   "id": "72f28224-424d-4a49-9a3f-0890a83b7f0c",
   "metadata": {},
   "outputs": [
    {
     "data": {
      "text/html": [
       "<div>\n",
       "<style scoped>\n",
       "    .dataframe tbody tr th:only-of-type {\n",
       "        vertical-align: middle;\n",
       "    }\n",
       "\n",
       "    .dataframe tbody tr th {\n",
       "        vertical-align: top;\n",
       "    }\n",
       "\n",
       "    .dataframe thead th {\n",
       "        text-align: right;\n",
       "    }\n",
       "</style>\n",
       "<table border=\"1\" class=\"dataframe\">\n",
       "  <thead>\n",
       "    <tr style=\"text-align: right;\">\n",
       "      <th></th>\n",
       "      <th>regiao</th>\n",
       "      <th>remuneracao</th>\n",
       "    </tr>\n",
       "  </thead>\n",
       "  <tbody>\n",
       "    <tr>\n",
       "      <th>RN</th>\n",
       "      <td>Nordeste</td>\n",
       "      <td>1.714991</td>\n",
       "    </tr>\n",
       "    <tr>\n",
       "      <th>MT</th>\n",
       "      <td>Centro-Oeste</td>\n",
       "      <td>1.594769</td>\n",
       "    </tr>\n",
       "    <tr>\n",
       "      <th>PR</th>\n",
       "      <td>Sul</td>\n",
       "      <td>1.547066</td>\n",
       "    </tr>\n",
       "    <tr>\n",
       "      <th>MS</th>\n",
       "      <td>Centro-Oeste</td>\n",
       "      <td>1.460479</td>\n",
       "    </tr>\n",
       "    <tr>\n",
       "      <th>ES</th>\n",
       "      <td>Sudeste</td>\n",
       "      <td>1.442645</td>\n",
       "    </tr>\n",
       "    <tr>\n",
       "      <th>RR</th>\n",
       "      <td>Norte</td>\n",
       "      <td>1.379999</td>\n",
       "    </tr>\n",
       "    <tr>\n",
       "      <th>MA</th>\n",
       "      <td>Nordeste</td>\n",
       "      <td>1.346228</td>\n",
       "    </tr>\n",
       "    <tr>\n",
       "      <th>PI</th>\n",
       "      <td>Nordeste</td>\n",
       "      <td>1.325771</td>\n",
       "    </tr>\n",
       "    <tr>\n",
       "      <th>MG</th>\n",
       "      <td>Sudeste</td>\n",
       "      <td>1.322688</td>\n",
       "    </tr>\n",
       "    <tr>\n",
       "      <th>BA</th>\n",
       "      <td>Nordeste</td>\n",
       "      <td>1.291561</td>\n",
       "    </tr>\n",
       "    <tr>\n",
       "      <th>PB</th>\n",
       "      <td>Nordeste</td>\n",
       "      <td>1.218103</td>\n",
       "    </tr>\n",
       "    <tr>\n",
       "      <th>PE</th>\n",
       "      <td>Nordeste</td>\n",
       "      <td>1.189501</td>\n",
       "    </tr>\n",
       "    <tr>\n",
       "      <th>RO</th>\n",
       "      <td>Norte</td>\n",
       "      <td>1.189166</td>\n",
       "    </tr>\n",
       "    <tr>\n",
       "      <th>TO</th>\n",
       "      <td>Norte</td>\n",
       "      <td>1.179683</td>\n",
       "    </tr>\n",
       "    <tr>\n",
       "      <th>SP</th>\n",
       "      <td>Sudeste</td>\n",
       "      <td>1.170824</td>\n",
       "    </tr>\n",
       "    <tr>\n",
       "      <th>SC</th>\n",
       "      <td>Sul</td>\n",
       "      <td>1.156151</td>\n",
       "    </tr>\n",
       "    <tr>\n",
       "      <th>CE</th>\n",
       "      <td>Nordeste</td>\n",
       "      <td>1.138500</td>\n",
       "    </tr>\n",
       "    <tr>\n",
       "      <th>GO</th>\n",
       "      <td>Centro-Oeste</td>\n",
       "      <td>1.133513</td>\n",
       "    </tr>\n",
       "    <tr>\n",
       "      <th>DF</th>\n",
       "      <td>Centro-Oeste</td>\n",
       "      <td>1.110622</td>\n",
       "    </tr>\n",
       "    <tr>\n",
       "      <th>PA</th>\n",
       "      <td>Norte</td>\n",
       "      <td>1.081964</td>\n",
       "    </tr>\n",
       "    <tr>\n",
       "      <th>AC</th>\n",
       "      <td>Norte</td>\n",
       "      <td>1.077669</td>\n",
       "    </tr>\n",
       "    <tr>\n",
       "      <th>RS</th>\n",
       "      <td>Sul</td>\n",
       "      <td>1.042336</td>\n",
       "    </tr>\n",
       "    <tr>\n",
       "      <th>SE</th>\n",
       "      <td>Nordeste</td>\n",
       "      <td>1.038790</td>\n",
       "    </tr>\n",
       "    <tr>\n",
       "      <th>AM</th>\n",
       "      <td>Norte</td>\n",
       "      <td>0.978589</td>\n",
       "    </tr>\n",
       "    <tr>\n",
       "      <th>AL</th>\n",
       "      <td>Nordeste</td>\n",
       "      <td>0.766171</td>\n",
       "    </tr>\n",
       "    <tr>\n",
       "      <th>AP</th>\n",
       "      <td>Norte</td>\n",
       "      <td>0.392934</td>\n",
       "    </tr>\n",
       "    <tr>\n",
       "      <th>RJ</th>\n",
       "      <td>Sudeste</td>\n",
       "      <td>NaN</td>\n",
       "    </tr>\n",
       "  </tbody>\n",
       "</table>\n",
       "</div>"
      ],
      "text/plain": [
       "          regiao  remuneracao\n",
       "RN      Nordeste     1.714991\n",
       "MT  Centro-Oeste     1.594769\n",
       "PR           Sul     1.547066\n",
       "MS  Centro-Oeste     1.460479\n",
       "ES       Sudeste     1.442645\n",
       "RR         Norte     1.379999\n",
       "MA      Nordeste     1.346228\n",
       "PI      Nordeste     1.325771\n",
       "MG       Sudeste     1.322688\n",
       "BA      Nordeste     1.291561\n",
       "PB      Nordeste     1.218103\n",
       "PE      Nordeste     1.189501\n",
       "RO         Norte     1.189166\n",
       "TO         Norte     1.179683\n",
       "SP       Sudeste     1.170824\n",
       "SC           Sul     1.156151\n",
       "CE      Nordeste     1.138500\n",
       "GO  Centro-Oeste     1.133513\n",
       "DF  Centro-Oeste     1.110622\n",
       "PA         Norte     1.081964\n",
       "AC         Norte     1.077669\n",
       "RS           Sul     1.042336\n",
       "SE      Nordeste     1.038790\n",
       "AM         Norte     0.978589\n",
       "AL      Nordeste     0.766171\n",
       "AP         Norte     0.392934\n",
       "RJ       Sudeste          NaN"
      ]
     },
     "execution_count": 173,
     "metadata": {},
     "output_type": "execute_result"
    }
   ],
   "source": [
    "taxa_rem_estadual = []\n",
    "for uf in unidades_federativas:\n",
    "    taxa_rem_estadual.append(df_remuneracao_media40h[uf]['estadual']['total'][2017]/df_remuneracao_media40h[uf]['estadual']['total'][2014])\n",
    "regioes = [estado2regiao[k] for k in unidades_federativas]\n",
    "\n",
    "df = pd.DataFrame({'regiao': regioes, 'remuneracao': taxa_rem_estadual}, index=unidades_federativas)\n",
    "df.sort_values(by='remuneracao', ascending=False)"
   ]
  },
  {
   "cell_type": "markdown",
   "id": "507240ea-6a41-4670-90cc-359cc4a950cb",
   "metadata": {},
   "source": [
    "Para as escolas públicas, **também vemos uma melhor distruibuição das regiões**, dando **destaque ao Nordeste, que possui 5 estados no TOP 10** dos maiores crescimentos de remuneração escolar. **Infelizmente, podemos notar que os estados do Norte seguem tendendo ao fim da listagem**."
   ]
  },
  {
   "cell_type": "code",
   "execution_count": 174,
   "id": "4745b02c-4424-466e-ac95-388470fd69ff",
   "metadata": {},
   "outputs": [
    {
     "data": {
      "text/html": [
       "<div>\n",
       "<style scoped>\n",
       "    .dataframe tbody tr th:only-of-type {\n",
       "        vertical-align: middle;\n",
       "    }\n",
       "\n",
       "    .dataframe tbody tr th {\n",
       "        vertical-align: top;\n",
       "    }\n",
       "\n",
       "    .dataframe thead th {\n",
       "        text-align: right;\n",
       "    }\n",
       "</style>\n",
       "<table border=\"1\" class=\"dataframe\">\n",
       "  <thead>\n",
       "    <tr style=\"text-align: right;\">\n",
       "      <th></th>\n",
       "      <th>regiao</th>\n",
       "      <th>remuneracao</th>\n",
       "    </tr>\n",
       "  </thead>\n",
       "  <tbody>\n",
       "    <tr>\n",
       "      <th>RN</th>\n",
       "      <td>Nordeste</td>\n",
       "      <td>1.563796</td>\n",
       "    </tr>\n",
       "    <tr>\n",
       "      <th>MT</th>\n",
       "      <td>Centro-Oeste</td>\n",
       "      <td>1.508718</td>\n",
       "    </tr>\n",
       "    <tr>\n",
       "      <th>MA</th>\n",
       "      <td>Nordeste</td>\n",
       "      <td>1.477639</td>\n",
       "    </tr>\n",
       "    <tr>\n",
       "      <th>MS</th>\n",
       "      <td>Centro-Oeste</td>\n",
       "      <td>1.447505</td>\n",
       "    </tr>\n",
       "    <tr>\n",
       "      <th>CE</th>\n",
       "      <td>Nordeste</td>\n",
       "      <td>1.445217</td>\n",
       "    </tr>\n",
       "    <tr>\n",
       "      <th>PI</th>\n",
       "      <td>Nordeste</td>\n",
       "      <td>1.420101</td>\n",
       "    </tr>\n",
       "    <tr>\n",
       "      <th>RR</th>\n",
       "      <td>Norte</td>\n",
       "      <td>1.397863</td>\n",
       "    </tr>\n",
       "    <tr>\n",
       "      <th>PR</th>\n",
       "      <td>Sul</td>\n",
       "      <td>1.373004</td>\n",
       "    </tr>\n",
       "    <tr>\n",
       "      <th>BA</th>\n",
       "      <td>Nordeste</td>\n",
       "      <td>1.350666</td>\n",
       "    </tr>\n",
       "    <tr>\n",
       "      <th>GO</th>\n",
       "      <td>Centro-Oeste</td>\n",
       "      <td>1.346868</td>\n",
       "    </tr>\n",
       "    <tr>\n",
       "      <th>PB</th>\n",
       "      <td>Nordeste</td>\n",
       "      <td>1.342696</td>\n",
       "    </tr>\n",
       "    <tr>\n",
       "      <th>ES</th>\n",
       "      <td>Sudeste</td>\n",
       "      <td>1.322058</td>\n",
       "    </tr>\n",
       "    <tr>\n",
       "      <th>MG</th>\n",
       "      <td>Sudeste</td>\n",
       "      <td>1.312061</td>\n",
       "    </tr>\n",
       "    <tr>\n",
       "      <th>PE</th>\n",
       "      <td>Nordeste</td>\n",
       "      <td>1.296854</td>\n",
       "    </tr>\n",
       "    <tr>\n",
       "      <th>PA</th>\n",
       "      <td>Norte</td>\n",
       "      <td>1.291590</td>\n",
       "    </tr>\n",
       "    <tr>\n",
       "      <th>SC</th>\n",
       "      <td>Sul</td>\n",
       "      <td>1.289996</td>\n",
       "    </tr>\n",
       "    <tr>\n",
       "      <th>RO</th>\n",
       "      <td>Norte</td>\n",
       "      <td>1.282126</td>\n",
       "    </tr>\n",
       "    <tr>\n",
       "      <th>TO</th>\n",
       "      <td>Norte</td>\n",
       "      <td>1.261170</td>\n",
       "    </tr>\n",
       "    <tr>\n",
       "      <th>RS</th>\n",
       "      <td>Sul</td>\n",
       "      <td>1.245251</td>\n",
       "    </tr>\n",
       "    <tr>\n",
       "      <th>SP</th>\n",
       "      <td>Sudeste</td>\n",
       "      <td>1.237669</td>\n",
       "    </tr>\n",
       "    <tr>\n",
       "      <th>SE</th>\n",
       "      <td>Nordeste</td>\n",
       "      <td>1.209494</td>\n",
       "    </tr>\n",
       "    <tr>\n",
       "      <th>AL</th>\n",
       "      <td>Nordeste</td>\n",
       "      <td>1.144626</td>\n",
       "    </tr>\n",
       "    <tr>\n",
       "      <th>AM</th>\n",
       "      <td>Norte</td>\n",
       "      <td>1.139127</td>\n",
       "    </tr>\n",
       "    <tr>\n",
       "      <th>DF</th>\n",
       "      <td>Centro-Oeste</td>\n",
       "      <td>1.121616</td>\n",
       "    </tr>\n",
       "    <tr>\n",
       "      <th>AC</th>\n",
       "      <td>Norte</td>\n",
       "      <td>1.120591</td>\n",
       "    </tr>\n",
       "    <tr>\n",
       "      <th>AP</th>\n",
       "      <td>Norte</td>\n",
       "      <td>0.569822</td>\n",
       "    </tr>\n",
       "    <tr>\n",
       "      <th>RJ</th>\n",
       "      <td>Sudeste</td>\n",
       "      <td>NaN</td>\n",
       "    </tr>\n",
       "  </tbody>\n",
       "</table>\n",
       "</div>"
      ],
      "text/plain": [
       "          regiao  remuneracao\n",
       "RN      Nordeste     1.563796\n",
       "MT  Centro-Oeste     1.508718\n",
       "MA      Nordeste     1.477639\n",
       "MS  Centro-Oeste     1.447505\n",
       "CE      Nordeste     1.445217\n",
       "PI      Nordeste     1.420101\n",
       "RR         Norte     1.397863\n",
       "PR           Sul     1.373004\n",
       "BA      Nordeste     1.350666\n",
       "GO  Centro-Oeste     1.346868\n",
       "PB      Nordeste     1.342696\n",
       "ES       Sudeste     1.322058\n",
       "MG       Sudeste     1.312061\n",
       "PE      Nordeste     1.296854\n",
       "PA         Norte     1.291590\n",
       "SC           Sul     1.289996\n",
       "RO         Norte     1.282126\n",
       "TO         Norte     1.261170\n",
       "RS           Sul     1.245251\n",
       "SP       Sudeste     1.237669\n",
       "SE      Nordeste     1.209494\n",
       "AL      Nordeste     1.144626\n",
       "AM         Norte     1.139127\n",
       "DF  Centro-Oeste     1.121616\n",
       "AC         Norte     1.120591\n",
       "AP         Norte     0.569822\n",
       "RJ       Sudeste          NaN"
      ]
     },
     "execution_count": 174,
     "metadata": {},
     "output_type": "execute_result"
    }
   ],
   "source": [
    "taxa_rem_publica = []\n",
    "for uf in unidades_federativas:\n",
    "    taxa_rem_publica.append(df_remuneracao_media40h[uf]['publica']['total'][2017]/df_remuneracao_media40h[uf]['publica']['total'][2014])\n",
    "regioes = [estado2regiao[k] for k in unidades_federativas]\n",
    "\n",
    "df = pd.DataFrame({'regiao': regioes, 'remuneracao': taxa_rem_publica}, index=unidades_federativas)\n",
    "df.sort_values(by='remuneracao', ascending=False)"
   ]
  },
  {
   "cell_type": "markdown",
   "id": "79274d17-330b-4af2-a3e1-e0f81faabe43",
   "metadata": {},
   "source": [
    "Para as escolas da rede privada, vemos que o **Nordeste perdeu um pouco de espaço para estados do Centro-Oeste**, mas mesmo assim **consegue se manter primariamente na parte de cima da tabela**. Ainda assim, **os estados do Norte se mantém no fim da tabela**."
   ]
  },
  {
   "cell_type": "code",
   "execution_count": 175,
   "id": "c5918516-2336-433b-aaf2-47d8122e00cd",
   "metadata": {},
   "outputs": [
    {
     "data": {
      "text/html": [
       "<div>\n",
       "<style scoped>\n",
       "    .dataframe tbody tr th:only-of-type {\n",
       "        vertical-align: middle;\n",
       "    }\n",
       "\n",
       "    .dataframe tbody tr th {\n",
       "        vertical-align: top;\n",
       "    }\n",
       "\n",
       "    .dataframe thead th {\n",
       "        text-align: right;\n",
       "    }\n",
       "</style>\n",
       "<table border=\"1\" class=\"dataframe\">\n",
       "  <thead>\n",
       "    <tr style=\"text-align: right;\">\n",
       "      <th></th>\n",
       "      <th>regiao</th>\n",
       "      <th>remuneracao</th>\n",
       "    </tr>\n",
       "  </thead>\n",
       "  <tbody>\n",
       "    <tr>\n",
       "      <th>MT</th>\n",
       "      <td>Centro-Oeste</td>\n",
       "      <td>1.388439</td>\n",
       "    </tr>\n",
       "    <tr>\n",
       "      <th>DF</th>\n",
       "      <td>Centro-Oeste</td>\n",
       "      <td>1.374424</td>\n",
       "    </tr>\n",
       "    <tr>\n",
       "      <th>PI</th>\n",
       "      <td>Nordeste</td>\n",
       "      <td>1.366706</td>\n",
       "    </tr>\n",
       "    <tr>\n",
       "      <th>RR</th>\n",
       "      <td>Norte</td>\n",
       "      <td>1.364515</td>\n",
       "    </tr>\n",
       "    <tr>\n",
       "      <th>MS</th>\n",
       "      <td>Centro-Oeste</td>\n",
       "      <td>1.345892</td>\n",
       "    </tr>\n",
       "    <tr>\n",
       "      <th>PB</th>\n",
       "      <td>Nordeste</td>\n",
       "      <td>1.317496</td>\n",
       "    </tr>\n",
       "    <tr>\n",
       "      <th>BA</th>\n",
       "      <td>Nordeste</td>\n",
       "      <td>1.309659</td>\n",
       "    </tr>\n",
       "    <tr>\n",
       "      <th>CE</th>\n",
       "      <td>Nordeste</td>\n",
       "      <td>1.308228</td>\n",
       "    </tr>\n",
       "    <tr>\n",
       "      <th>GO</th>\n",
       "      <td>Centro-Oeste</td>\n",
       "      <td>1.305818</td>\n",
       "    </tr>\n",
       "    <tr>\n",
       "      <th>SC</th>\n",
       "      <td>Sul</td>\n",
       "      <td>1.297584</td>\n",
       "    </tr>\n",
       "    <tr>\n",
       "      <th>TO</th>\n",
       "      <td>Norte</td>\n",
       "      <td>1.293258</td>\n",
       "    </tr>\n",
       "    <tr>\n",
       "      <th>MG</th>\n",
       "      <td>Sudeste</td>\n",
       "      <td>1.289555</td>\n",
       "    </tr>\n",
       "    <tr>\n",
       "      <th>PE</th>\n",
       "      <td>Nordeste</td>\n",
       "      <td>1.281540</td>\n",
       "    </tr>\n",
       "    <tr>\n",
       "      <th>RN</th>\n",
       "      <td>Nordeste</td>\n",
       "      <td>1.269517</td>\n",
       "    </tr>\n",
       "    <tr>\n",
       "      <th>AL</th>\n",
       "      <td>Nordeste</td>\n",
       "      <td>1.268995</td>\n",
       "    </tr>\n",
       "    <tr>\n",
       "      <th>PR</th>\n",
       "      <td>Sul</td>\n",
       "      <td>1.267596</td>\n",
       "    </tr>\n",
       "    <tr>\n",
       "      <th>RS</th>\n",
       "      <td>Sul</td>\n",
       "      <td>1.267430</td>\n",
       "    </tr>\n",
       "    <tr>\n",
       "      <th>SP</th>\n",
       "      <td>Sudeste</td>\n",
       "      <td>1.257195</td>\n",
       "    </tr>\n",
       "    <tr>\n",
       "      <th>ES</th>\n",
       "      <td>Sudeste</td>\n",
       "      <td>1.254412</td>\n",
       "    </tr>\n",
       "    <tr>\n",
       "      <th>RJ</th>\n",
       "      <td>Sudeste</td>\n",
       "      <td>1.239488</td>\n",
       "    </tr>\n",
       "    <tr>\n",
       "      <th>AM</th>\n",
       "      <td>Norte</td>\n",
       "      <td>1.236891</td>\n",
       "    </tr>\n",
       "    <tr>\n",
       "      <th>AC</th>\n",
       "      <td>Norte</td>\n",
       "      <td>1.227733</td>\n",
       "    </tr>\n",
       "    <tr>\n",
       "      <th>MA</th>\n",
       "      <td>Nordeste</td>\n",
       "      <td>1.215038</td>\n",
       "    </tr>\n",
       "    <tr>\n",
       "      <th>SE</th>\n",
       "      <td>Nordeste</td>\n",
       "      <td>1.203200</td>\n",
       "    </tr>\n",
       "    <tr>\n",
       "      <th>RO</th>\n",
       "      <td>Norte</td>\n",
       "      <td>1.201214</td>\n",
       "    </tr>\n",
       "    <tr>\n",
       "      <th>PA</th>\n",
       "      <td>Norte</td>\n",
       "      <td>1.191095</td>\n",
       "    </tr>\n",
       "    <tr>\n",
       "      <th>AP</th>\n",
       "      <td>Norte</td>\n",
       "      <td>1.078981</td>\n",
       "    </tr>\n",
       "  </tbody>\n",
       "</table>\n",
       "</div>"
      ],
      "text/plain": [
       "          regiao  remuneracao\n",
       "MT  Centro-Oeste     1.388439\n",
       "DF  Centro-Oeste     1.374424\n",
       "PI      Nordeste     1.366706\n",
       "RR         Norte     1.364515\n",
       "MS  Centro-Oeste     1.345892\n",
       "PB      Nordeste     1.317496\n",
       "BA      Nordeste     1.309659\n",
       "CE      Nordeste     1.308228\n",
       "GO  Centro-Oeste     1.305818\n",
       "SC           Sul     1.297584\n",
       "TO         Norte     1.293258\n",
       "MG       Sudeste     1.289555\n",
       "PE      Nordeste     1.281540\n",
       "RN      Nordeste     1.269517\n",
       "AL      Nordeste     1.268995\n",
       "PR           Sul     1.267596\n",
       "RS           Sul     1.267430\n",
       "SP       Sudeste     1.257195\n",
       "ES       Sudeste     1.254412\n",
       "RJ       Sudeste     1.239488\n",
       "AM         Norte     1.236891\n",
       "AC         Norte     1.227733\n",
       "MA      Nordeste     1.215038\n",
       "SE      Nordeste     1.203200\n",
       "RO         Norte     1.201214\n",
       "PA         Norte     1.191095\n",
       "AP         Norte     1.078981"
      ]
     },
     "execution_count": 175,
     "metadata": {},
     "output_type": "execute_result"
    }
   ],
   "source": [
    "taxa_rem_privada = []\n",
    "for uf in unidades_federativas:\n",
    "    taxa_rem_privada.append(df_remuneracao_media40h[uf]['privada']['total'][2017]/df_remuneracao_media40h[uf]['privada']['total'][2014])\n",
    "regioes = [estado2regiao[k] for k in unidades_federativas]\n",
    "\n",
    "df = pd.DataFrame({'regiao': regioes, 'remuneracao': taxa_rem_privada}, index=unidades_federativas)\n",
    "df.sort_values(by='remuneracao', ascending=False)"
   ]
  },
  {
   "cell_type": "markdown",
   "id": "a626a2ea-fec9-4c11-af59-ff5e4b50a6d8",
   "metadata": {},
   "source": [
    "#### Resumo"
   ]
  },
  {
   "cell_type": "markdown",
   "id": "fffbac06-acc2-477b-8254-5813dce17ebf",
   "metadata": {},
   "source": [
    "**Para resumir nossos achados, vimos que para escolas estaduais, o estado do Pará possui um nível salarial consideravelmente maior que os demais, com quase 40% mais que o 2º lugar do ranking. Para as escolas privadas e públicas, vimos que o Distrito Federal possui os maiores salários, com até 50% maior que a 2ª posição.**\n",
    "\n",
    "**Além disso, podemos dar destaque à desigualdade salarial para com os estados da região Norte e Nordeste, que ocuparam primariamente as últimas posições da listagem. Isso preocupa, visto que são os estados com menores índices de desenvolvimento da educação básica e que a base da educação, que são os professores, continuam com poucos incentivos salariais para melhorar o nível educacional do estado.**\n",
    "\n",
    "**O único ponto positivo que podemos levantar é que em termos de evolução salarial, os estados do Nordeste foram destaque, ainda que estejam atrás dos demais em valores absolutos. Mantendo esse crescimento será possível igualar os incentivos profissionais de se tornar um professor, o que afeta diretamente o nível de educação do estado.**\n",
    "\n",
    "**Contudo, isso não se concretizou com os estados do Norte, que possuem salários baixos e também foram os salários que menos cresceram, ou até mesmo com médias salariais que foram reduzidas. Isso traz um grande alerta para a região, que necessita de mais investimentos e incentivos na área da educação, que é a base para o desenvolvimento social.**"
   ]
  },
  {
   "cell_type": "markdown",
   "id": "e06eb3c3-1a6f-4474-9329-724cd14d0f4c",
   "metadata": {},
   "source": [
    " "
   ]
  },
  {
   "cell_type": "markdown",
   "id": "bf75a28c-e37f-40b1-8723-03a9dda1847e",
   "metadata": {},
   "source": [
    "Mas uma dúvida latente que surge é se existe alguma correlação entre a taxa de crescimento dos índices de desenvolvimento da educação básica e a taxa de crescimento dos salários dos professores."
   ]
  },
  {
   "cell_type": "markdown",
   "id": "64b627cc-b212-4bee-94dd-4786aa340dbf",
   "metadata": {},
   "source": [
    "Como a base de dados das remunerações não define a série dos alunos, utilizarei a média dos crescimentos do ideb."
   ]
  },
  {
   "cell_type": "code",
   "execution_count": 196,
   "id": "6883d72c-60b6-42de-a231-d9d13e2b8bea",
   "metadata": {},
   "outputs": [
    {
     "data": {
      "text/plain": [
       "array([1.14199762, 1.05993036, 1.11820213, 0.68057911, 1.31729561,\n",
       "       1.29731511, 1.20222051, 1.33970516, 1.26206623, 1.34630165,\n",
       "       1.3081012 , 1.41795887, 1.49730853, 1.18821648, 1.29276487,\n",
       "       1.2559649 , 1.3708595 , 1.39588907,        nan, 1.51610119,\n",
       "       1.22416866, 1.38079225, 1.18500561, 1.24791045, 1.15049477,\n",
       "       1.22189612, 1.24470376])"
      ]
     },
     "execution_count": 196,
     "metadata": {},
     "output_type": "execute_result"
    }
   ],
   "source": [
    "taxa_rem_media = (np.array(taxa_rem_estadual)+np.array(taxa_rem_privada)+np.array(taxa_rem_publica))/3.0\n",
    "taxa_rem_media"
   ]
  },
  {
   "cell_type": "code",
   "execution_count": 197,
   "id": "affa54c4-cff0-4382-849e-58c542c40c12",
   "metadata": {},
   "outputs": [
    {
     "data": {
      "text/plain": [
       "array([145.13480392, 183.27777778, 165.9299084 , 128.21736453,\n",
       "       154.47150763, 169.17562724, 131.54239766, 134.37761069,\n",
       "       150.88269454, 151.05151128, 125.92385218, 142.26084373,\n",
       "       144.95221027, 140.22366522, 157.5308642 , 166.55092593,\n",
       "       167.59759521, 139.69404187, 131.74575209, 153.23693973,\n",
       "       144.6827342 , 130.65107124, 126.4547289 , 125.61941323,\n",
       "       139.5959596 , 133.76111674, 142.42251739])"
      ]
     },
     "execution_count": 197,
     "metadata": {},
     "output_type": "execute_result"
    }
   ],
   "source": [
    "crescimento_ideb = (np.array(crescimento_fund1)+np.array(crescimento_fund2)+np.array(crescimento_med))/3.0\n",
    "crescimento_ideb"
   ]
  },
  {
   "cell_type": "markdown",
   "id": "7c1fe728-a603-4844-9e07-7fdffcef4f45",
   "metadata": {},
   "source": [
    "Através do gráfico a seguir, em que insiro os crescimentos de remuneração e ideb, **não conseguimos ver nenhuma correlação direta**."
   ]
  },
  {
   "cell_type": "code",
   "execution_count": 198,
   "id": "aa8df910-6d77-4ab8-9f12-4bd855ee8154",
   "metadata": {},
   "outputs": [
    {
     "data": {
      "text/plain": [
       "<AxesSubplot:xlabel='remuneracao', ylabel='ideb'>"
      ]
     },
     "execution_count": 198,
     "metadata": {},
     "output_type": "execute_result"
    },
    {
     "data": {
      "image/png": "[encoded data removed]",
      "text/plain": [
       "<Figure size 432x288 with 1 Axes>"
      ]
     },
     "metadata": {
      "needs_background": "light"
     },
     "output_type": "display_data"
    }
   ],
   "source": [
    "df = pd.DataFrame({'remuneracao': taxa_rem_media, 'ideb': crescimento_ideb})\n",
    "sns.scatterplot(data=df, x='remuneracao', y='ideb')"
   ]
  },
  {
   "cell_type": "markdown",
   "id": "eb9c9e85-bee5-448c-a085-60352676483e",
   "metadata": {},
   "source": [
    "### Análise com dados de Desenvolvimento Humano"
   ]
  },
  {
   "cell_type": "code",
   "execution_count": 231,
   "id": "e5224937-754f-4ea8-aa4a-731d28b8c272",
   "metadata": {},
   "outputs": [
    {
     "data": {
      "text/html": [
       "<div>\n",
       "<style scoped>\n",
       "    .dataframe tbody tr th:only-of-type {\n",
       "        vertical-align: middle;\n",
       "    }\n",
       "\n",
       "    .dataframe tbody tr th {\n",
       "        vertical-align: top;\n",
       "    }\n",
       "\n",
       "    .dataframe thead th {\n",
       "        text-align: right;\n",
       "    }\n",
       "</style>\n",
       "<table border=\"1\" class=\"dataframe\">\n",
       "  <thead>\n",
       "    <tr style=\"text-align: right;\">\n",
       "      <th></th>\n",
       "      <th>id_uf</th>\n",
       "      <th>uf</th>\n",
       "      <th>ano</th>\n",
       "      <th>taxa_atividade_10_14</th>\n",
       "      <th>taxa_atividade_15_17</th>\n",
       "      <th>taxa_desocupacao_10_14</th>\n",
       "      <th>taxa_desocupacao_15_17</th>\n",
       "      <th>taxa_criancas_fora_escola_6_14</th>\n",
       "      <th>taxa_mulheres_com_filho_10_14</th>\n",
       "      <th>taxa_mulheres_com_filho_15_17</th>\n",
       "      <th>pea_10_14</th>\n",
       "      <th>pea_15_17</th>\n",
       "    </tr>\n",
       "  </thead>\n",
       "  <tbody>\n",
       "    <tr>\n",
       "      <th>0</th>\n",
       "      <td>11</td>\n",
       "      <td>Rondônia</td>\n",
       "      <td>1991</td>\n",
       "      <td>NaN</td>\n",
       "      <td>NaN</td>\n",
       "      <td>NaN</td>\n",
       "      <td>NaN</td>\n",
       "      <td>29.57</td>\n",
       "      <td>0.38</td>\n",
       "      <td>10.31</td>\n",
       "      <td>NaN</td>\n",
       "      <td>NaN</td>\n",
       "    </tr>\n",
       "    <tr>\n",
       "      <th>1</th>\n",
       "      <td>11</td>\n",
       "      <td>Rondônia</td>\n",
       "      <td>2000</td>\n",
       "      <td>13.57</td>\n",
       "      <td>45.68</td>\n",
       "      <td>16.09</td>\n",
       "      <td>21.57</td>\n",
       "      <td>12.43</td>\n",
       "      <td>0.65</td>\n",
       "      <td>11.30</td>\n",
       "      <td>21636.0</td>\n",
       "      <td>43441.0</td>\n",
       "    </tr>\n",
       "    <tr>\n",
       "      <th>2</th>\n",
       "      <td>11</td>\n",
       "      <td>Rondônia</td>\n",
       "      <td>2010</td>\n",
       "      <td>11.97</td>\n",
       "      <td>36.39</td>\n",
       "      <td>9.92</td>\n",
       "      <td>16.60</td>\n",
       "      <td>4.09</td>\n",
       "      <td>0.43</td>\n",
       "      <td>8.13</td>\n",
       "      <td>18698.0</td>\n",
       "      <td>34904.0</td>\n",
       "    </tr>\n",
       "    <tr>\n",
       "      <th>3</th>\n",
       "      <td>12</td>\n",
       "      <td>Acre</td>\n",
       "      <td>1991</td>\n",
       "      <td>NaN</td>\n",
       "      <td>NaN</td>\n",
       "      <td>NaN</td>\n",
       "      <td>NaN</td>\n",
       "      <td>40.76</td>\n",
       "      <td>0.41</td>\n",
       "      <td>11.79</td>\n",
       "      <td>NaN</td>\n",
       "      <td>NaN</td>\n",
       "    </tr>\n",
       "    <tr>\n",
       "      <th>4</th>\n",
       "      <td>12</td>\n",
       "      <td>Acre</td>\n",
       "      <td>2000</td>\n",
       "      <td>10.44</td>\n",
       "      <td>31.93</td>\n",
       "      <td>21.12</td>\n",
       "      <td>27.31</td>\n",
       "      <td>18.40</td>\n",
       "      <td>0.74</td>\n",
       "      <td>16.83</td>\n",
       "      <td>7021.0</td>\n",
       "      <td>12857.0</td>\n",
       "    </tr>\n",
       "  </tbody>\n",
       "</table>\n",
       "</div>"
      ],
      "text/plain": [
       "   id_uf        uf   ano  taxa_atividade_10_14  taxa_atividade_15_17  \\\n",
       "0     11  Rondônia  1991                   NaN                   NaN   \n",
       "1     11  Rondônia  2000                 13.57                 45.68   \n",
       "2     11  Rondônia  2010                 11.97                 36.39   \n",
       "3     12      Acre  1991                   NaN                   NaN   \n",
       "4     12      Acre  2000                 10.44                 31.93   \n",
       "\n",
       "   taxa_desocupacao_10_14  taxa_desocupacao_15_17  \\\n",
       "0                     NaN                     NaN   \n",
       "1                   16.09                   21.57   \n",
       "2                    9.92                   16.60   \n",
       "3                     NaN                     NaN   \n",
       "4                   21.12                   27.31   \n",
       "\n",
       "   taxa_criancas_fora_escola_6_14  taxa_mulheres_com_filho_10_14  \\\n",
       "0                           29.57                           0.38   \n",
       "1                           12.43                           0.65   \n",
       "2                            4.09                           0.43   \n",
       "3                           40.76                           0.41   \n",
       "4                           18.40                           0.74   \n",
       "\n",
       "   taxa_mulheres_com_filho_15_17  pea_10_14  pea_15_17  \n",
       "0                          10.31        NaN        NaN  \n",
       "1                          11.30    21636.0    43441.0  \n",
       "2                           8.13    18698.0    34904.0  \n",
       "3                          11.79        NaN        NaN  \n",
       "4                          16.83     7021.0    12857.0  "
      ]
     },
     "execution_count": 231,
     "metadata": {},
     "output_type": "execute_result"
    }
   ],
   "source": [
    "df_adh_corte = df_adh[['id_uf', 'uf', 'ano', 'taxa_atividade_10_14', 'taxa_atividade_15_17', 'taxa_desocupacao_10_14', 'taxa_desocupacao_15_17', 'taxa_criancas_fora_escola_6_14', 'taxa_mulheres_com_filho_10_14', 'taxa_mulheres_com_filho_15_17', 'pea_10_14', 'pea_15_17']].sort_values(by='id_uf')\n",
    "df_adh_corte.head()"
   ]
  },
  {
   "cell_type": "markdown",
   "id": "818d910c-9f9a-427e-9c10-bd9e6c19a2ae",
   "metadata": {},
   "source": [
    "Vou incrementar os dados com a sigla da UF, a partir da tabela 'basedosdados.br_bd_diretorios_brasil.uf'."
   ]
  },
  {
   "cell_type": "code",
   "execution_count": 232,
   "id": "3e897b14-f049-4b23-a7ec-eaf0cb398ecd",
   "metadata": {},
   "outputs": [
    {
     "name": "stderr",
     "output_type": "stream",
     "text": [
      "Downloading: 100%|██████████| 27/27 [00:00<00:00, 43.98rows/s]\n"
     ]
    }
   ],
   "source": [
    "df_uf = bd.read_table(dataset_id='br_bd_diretorios_brasil', table_id='uf', billing_project_id=\"projeto-analytica-314611\")"
   ]
  },
  {
   "cell_type": "markdown",
   "id": "43ea09ab-3937-47b2-86fd-67b9322dc41d",
   "metadata": {},
   "source": [
    "Antes, precisamos trocar o tipo do 'id_uf' para inteiro."
   ]
  },
  {
   "cell_type": "code",
   "execution_count": 233,
   "id": "cd421812-4e0a-4703-8739-7148701abe56",
   "metadata": {},
   "outputs": [
    {
     "data": {
      "text/plain": [
       "id_uf       object\n",
       "sigla_uf    object\n",
       "uf          object\n",
       "regiao      object\n",
       "dtype: object"
      ]
     },
     "execution_count": 233,
     "metadata": {},
     "output_type": "execute_result"
    }
   ],
   "source": [
    "df_uf.dtypes"
   ]
  },
  {
   "cell_type": "code",
   "execution_count": 234,
   "id": "c9915bc7-4fb3-40bb-8cee-4efec935aae2",
   "metadata": {},
   "outputs": [],
   "source": [
    "df_uf['id_uf'] = pd.to_numeric(df_uf['id_uf'])"
   ]
  },
  {
   "cell_type": "code",
   "execution_count": 235,
   "id": "77627b86-cc60-4a3d-b641-537cbdeee697",
   "metadata": {},
   "outputs": [
    {
     "data": {
      "text/html": [
       "<div>\n",
       "<style scoped>\n",
       "    .dataframe tbody tr th:only-of-type {\n",
       "        vertical-align: middle;\n",
       "    }\n",
       "\n",
       "    .dataframe tbody tr th {\n",
       "        vertical-align: top;\n",
       "    }\n",
       "\n",
       "    .dataframe thead th {\n",
       "        text-align: right;\n",
       "    }\n",
       "</style>\n",
       "<table border=\"1\" class=\"dataframe\">\n",
       "  <thead>\n",
       "    <tr style=\"text-align: right;\">\n",
       "      <th></th>\n",
       "      <th>id_uf</th>\n",
       "      <th>uf_x</th>\n",
       "      <th>ano</th>\n",
       "      <th>taxa_atividade_10_14</th>\n",
       "      <th>taxa_atividade_15_17</th>\n",
       "      <th>taxa_desocupacao_10_14</th>\n",
       "      <th>taxa_desocupacao_15_17</th>\n",
       "      <th>taxa_criancas_fora_escola_6_14</th>\n",
       "      <th>taxa_mulheres_com_filho_10_14</th>\n",
       "      <th>taxa_mulheres_com_filho_15_17</th>\n",
       "      <th>pea_10_14</th>\n",
       "      <th>pea_15_17</th>\n",
       "      <th>sigla_uf</th>\n",
       "      <th>uf_y</th>\n",
       "      <th>regiao</th>\n",
       "    </tr>\n",
       "  </thead>\n",
       "  <tbody>\n",
       "    <tr>\n",
       "      <th>0</th>\n",
       "      <td>11</td>\n",
       "      <td>Rondônia</td>\n",
       "      <td>1991</td>\n",
       "      <td>NaN</td>\n",
       "      <td>NaN</td>\n",
       "      <td>NaN</td>\n",
       "      <td>NaN</td>\n",
       "      <td>29.57</td>\n",
       "      <td>0.38</td>\n",
       "      <td>10.31</td>\n",
       "      <td>NaN</td>\n",
       "      <td>NaN</td>\n",
       "      <td>RO</td>\n",
       "      <td>Rondônia</td>\n",
       "      <td>Norte</td>\n",
       "    </tr>\n",
       "    <tr>\n",
       "      <th>1</th>\n",
       "      <td>11</td>\n",
       "      <td>Rondônia</td>\n",
       "      <td>2000</td>\n",
       "      <td>13.57</td>\n",
       "      <td>45.68</td>\n",
       "      <td>16.09</td>\n",
       "      <td>21.57</td>\n",
       "      <td>12.43</td>\n",
       "      <td>0.65</td>\n",
       "      <td>11.30</td>\n",
       "      <td>21636.0</td>\n",
       "      <td>43441.0</td>\n",
       "      <td>RO</td>\n",
       "      <td>Rondônia</td>\n",
       "      <td>Norte</td>\n",
       "    </tr>\n",
       "    <tr>\n",
       "      <th>2</th>\n",
       "      <td>11</td>\n",
       "      <td>Rondônia</td>\n",
       "      <td>2010</td>\n",
       "      <td>11.97</td>\n",
       "      <td>36.39</td>\n",
       "      <td>9.92</td>\n",
       "      <td>16.60</td>\n",
       "      <td>4.09</td>\n",
       "      <td>0.43</td>\n",
       "      <td>8.13</td>\n",
       "      <td>18698.0</td>\n",
       "      <td>34904.0</td>\n",
       "      <td>RO</td>\n",
       "      <td>Rondônia</td>\n",
       "      <td>Norte</td>\n",
       "    </tr>\n",
       "    <tr>\n",
       "      <th>3</th>\n",
       "      <td>12</td>\n",
       "      <td>Acre</td>\n",
       "      <td>1991</td>\n",
       "      <td>NaN</td>\n",
       "      <td>NaN</td>\n",
       "      <td>NaN</td>\n",
       "      <td>NaN</td>\n",
       "      <td>40.76</td>\n",
       "      <td>0.41</td>\n",
       "      <td>11.79</td>\n",
       "      <td>NaN</td>\n",
       "      <td>NaN</td>\n",
       "      <td>AC</td>\n",
       "      <td>Acre</td>\n",
       "      <td>Norte</td>\n",
       "    </tr>\n",
       "    <tr>\n",
       "      <th>4</th>\n",
       "      <td>12</td>\n",
       "      <td>Acre</td>\n",
       "      <td>2000</td>\n",
       "      <td>10.44</td>\n",
       "      <td>31.93</td>\n",
       "      <td>21.12</td>\n",
       "      <td>27.31</td>\n",
       "      <td>18.40</td>\n",
       "      <td>0.74</td>\n",
       "      <td>16.83</td>\n",
       "      <td>7021.0</td>\n",
       "      <td>12857.0</td>\n",
       "      <td>AC</td>\n",
       "      <td>Acre</td>\n",
       "      <td>Norte</td>\n",
       "    </tr>\n",
       "  </tbody>\n",
       "</table>\n",
       "</div>"
      ],
      "text/plain": [
       "   id_uf      uf_x   ano  taxa_atividade_10_14  taxa_atividade_15_17  \\\n",
       "0     11  Rondônia  1991                   NaN                   NaN   \n",
       "1     11  Rondônia  2000                 13.57                 45.68   \n",
       "2     11  Rondônia  2010                 11.97                 36.39   \n",
       "3     12      Acre  1991                   NaN                   NaN   \n",
       "4     12      Acre  2000                 10.44                 31.93   \n",
       "\n",
       "   taxa_desocupacao_10_14  taxa_desocupacao_15_17  \\\n",
       "0                     NaN                     NaN   \n",
       "1                   16.09                   21.57   \n",
       "2                    9.92                   16.60   \n",
       "3                     NaN                     NaN   \n",
       "4                   21.12                   27.31   \n",
       "\n",
       "   taxa_criancas_fora_escola_6_14  taxa_mulheres_com_filho_10_14  \\\n",
       "0                           29.57                           0.38   \n",
       "1                           12.43                           0.65   \n",
       "2                            4.09                           0.43   \n",
       "3                           40.76                           0.41   \n",
       "4                           18.40                           0.74   \n",
       "\n",
       "   taxa_mulheres_com_filho_15_17  pea_10_14  pea_15_17 sigla_uf      uf_y  \\\n",
       "0                          10.31        NaN        NaN       RO  Rondônia   \n",
       "1                          11.30    21636.0    43441.0       RO  Rondônia   \n",
       "2                           8.13    18698.0    34904.0       RO  Rondônia   \n",
       "3                          11.79        NaN        NaN       AC      Acre   \n",
       "4                          16.83     7021.0    12857.0       AC      Acre   \n",
       "\n",
       "  regiao  \n",
       "0  Norte  \n",
       "1  Norte  \n",
       "2  Norte  \n",
       "3  Norte  \n",
       "4  Norte  "
      ]
     },
     "execution_count": 235,
     "metadata": {},
     "output_type": "execute_result"
    }
   ],
   "source": [
    "df_adh_corte = pd.merge(df_adh_corte, df_uf, how=\"inner\", on=\"id_uf\")\n",
    "df_adh_corte.head()"
   ]
  },
  {
   "cell_type": "markdown",
   "id": "320bdb67-07f0-4ff9-9f3d-312cf21d7d4e",
   "metadata": {},
   "source": [
    "Vamos setar o indice:"
   ]
  },
  {
   "cell_type": "code",
   "execution_count": 240,
   "id": "b7d23ecb-8872-4925-806a-72037b850b2a",
   "metadata": {},
   "outputs": [
    {
     "data": {
      "text/html": [
       "<div>\n",
       "<style scoped>\n",
       "    .dataframe tbody tr th:only-of-type {\n",
       "        vertical-align: middle;\n",
       "    }\n",
       "\n",
       "    .dataframe tbody tr th {\n",
       "        vertical-align: top;\n",
       "    }\n",
       "\n",
       "    .dataframe thead th {\n",
       "        text-align: right;\n",
       "    }\n",
       "</style>\n",
       "<table border=\"1\" class=\"dataframe\">\n",
       "  <thead>\n",
       "    <tr style=\"text-align: right;\">\n",
       "      <th></th>\n",
       "      <th></th>\n",
       "      <th>id_uf</th>\n",
       "      <th>uf_x</th>\n",
       "      <th>taxa_atividade_10_14</th>\n",
       "      <th>taxa_atividade_15_17</th>\n",
       "      <th>taxa_desocupacao_10_14</th>\n",
       "      <th>taxa_desocupacao_15_17</th>\n",
       "      <th>taxa_criancas_fora_escola_6_14</th>\n",
       "      <th>taxa_mulheres_com_filho_10_14</th>\n",
       "      <th>taxa_mulheres_com_filho_15_17</th>\n",
       "      <th>pea_10_14</th>\n",
       "      <th>pea_15_17</th>\n",
       "      <th>uf_y</th>\n",
       "      <th>regiao</th>\n",
       "    </tr>\n",
       "    <tr>\n",
       "      <th>sigla_uf</th>\n",
       "      <th>ano</th>\n",
       "      <th></th>\n",
       "      <th></th>\n",
       "      <th></th>\n",
       "      <th></th>\n",
       "      <th></th>\n",
       "      <th></th>\n",
       "      <th></th>\n",
       "      <th></th>\n",
       "      <th></th>\n",
       "      <th></th>\n",
       "      <th></th>\n",
       "      <th></th>\n",
       "      <th></th>\n",
       "    </tr>\n",
       "  </thead>\n",
       "  <tbody>\n",
       "    <tr>\n",
       "      <th rowspan=\"3\" valign=\"top\">AC</th>\n",
       "      <th>1991</th>\n",
       "      <td>12</td>\n",
       "      <td>Acre</td>\n",
       "      <td>NaN</td>\n",
       "      <td>NaN</td>\n",
       "      <td>NaN</td>\n",
       "      <td>NaN</td>\n",
       "      <td>40.76</td>\n",
       "      <td>0.41</td>\n",
       "      <td>11.79</td>\n",
       "      <td>NaN</td>\n",
       "      <td>NaN</td>\n",
       "      <td>Acre</td>\n",
       "      <td>Norte</td>\n",
       "    </tr>\n",
       "    <tr>\n",
       "      <th>2000</th>\n",
       "      <td>12</td>\n",
       "      <td>Acre</td>\n",
       "      <td>10.44</td>\n",
       "      <td>31.93</td>\n",
       "      <td>21.12</td>\n",
       "      <td>27.31</td>\n",
       "      <td>18.40</td>\n",
       "      <td>0.74</td>\n",
       "      <td>16.83</td>\n",
       "      <td>7021.0</td>\n",
       "      <td>12857.0</td>\n",
       "      <td>Acre</td>\n",
       "      <td>Norte</td>\n",
       "    </tr>\n",
       "    <tr>\n",
       "      <th>2010</th>\n",
       "      <td>12</td>\n",
       "      <td>Acre</td>\n",
       "      <td>10.32</td>\n",
       "      <td>24.02</td>\n",
       "      <td>13.10</td>\n",
       "      <td>25.65</td>\n",
       "      <td>8.17</td>\n",
       "      <td>0.86</td>\n",
       "      <td>12.22</td>\n",
       "      <td>9054.0</td>\n",
       "      <td>11629.0</td>\n",
       "      <td>Acre</td>\n",
       "      <td>Norte</td>\n",
       "    </tr>\n",
       "    <tr>\n",
       "      <th rowspan=\"2\" valign=\"top\">AL</th>\n",
       "      <th>1991</th>\n",
       "      <td>27</td>\n",
       "      <td>Alagoas</td>\n",
       "      <td>NaN</td>\n",
       "      <td>NaN</td>\n",
       "      <td>NaN</td>\n",
       "      <td>NaN</td>\n",
       "      <td>42.11</td>\n",
       "      <td>0.29</td>\n",
       "      <td>7.06</td>\n",
       "      <td>NaN</td>\n",
       "      <td>NaN</td>\n",
       "      <td>Alagoas</td>\n",
       "      <td>Nordeste</td>\n",
       "    </tr>\n",
       "    <tr>\n",
       "      <th>2000</th>\n",
       "      <td>27</td>\n",
       "      <td>Alagoas</td>\n",
       "      <td>11.47</td>\n",
       "      <td>33.46</td>\n",
       "      <td>19.22</td>\n",
       "      <td>31.45</td>\n",
       "      <td>12.77</td>\n",
       "      <td>0.60</td>\n",
       "      <td>10.37</td>\n",
       "      <td>37660.0</td>\n",
       "      <td>67812.0</td>\n",
       "      <td>Alagoas</td>\n",
       "      <td>Nordeste</td>\n",
       "    </tr>\n",
       "  </tbody>\n",
       "</table>\n",
       "</div>"
      ],
      "text/plain": [
       "               id_uf     uf_x  taxa_atividade_10_14  taxa_atividade_15_17  \\\n",
       "sigla_uf ano                                                                \n",
       "AC       1991     12     Acre                   NaN                   NaN   \n",
       "         2000     12     Acre                 10.44                 31.93   \n",
       "         2010     12     Acre                 10.32                 24.02   \n",
       "AL       1991     27  Alagoas                   NaN                   NaN   \n",
       "         2000     27  Alagoas                 11.47                 33.46   \n",
       "\n",
       "               taxa_desocupacao_10_14  taxa_desocupacao_15_17  \\\n",
       "sigla_uf ano                                                    \n",
       "AC       1991                     NaN                     NaN   \n",
       "         2000                   21.12                   27.31   \n",
       "         2010                   13.10                   25.65   \n",
       "AL       1991                     NaN                     NaN   \n",
       "         2000                   19.22                   31.45   \n",
       "\n",
       "               taxa_criancas_fora_escola_6_14  taxa_mulheres_com_filho_10_14  \\\n",
       "sigla_uf ano                                                                   \n",
       "AC       1991                           40.76                           0.41   \n",
       "         2000                           18.40                           0.74   \n",
       "         2010                            8.17                           0.86   \n",
       "AL       1991                           42.11                           0.29   \n",
       "         2000                           12.77                           0.60   \n",
       "\n",
       "               taxa_mulheres_com_filho_15_17  pea_10_14  pea_15_17     uf_y  \\\n",
       "sigla_uf ano                                                                  \n",
       "AC       1991                          11.79        NaN        NaN     Acre   \n",
       "         2000                          16.83     7021.0    12857.0     Acre   \n",
       "         2010                          12.22     9054.0    11629.0     Acre   \n",
       "AL       1991                           7.06        NaN        NaN  Alagoas   \n",
       "         2000                          10.37    37660.0    67812.0  Alagoas   \n",
       "\n",
       "                 regiao  \n",
       "sigla_uf ano             \n",
       "AC       1991     Norte  \n",
       "         2000     Norte  \n",
       "         2010     Norte  \n",
       "AL       1991  Nordeste  \n",
       "         2000  Nordeste  "
      ]
     },
     "execution_count": 240,
     "metadata": {},
     "output_type": "execute_result"
    }
   ],
   "source": [
    "df_adh_corte = df_adh_corte.set_index(['sigla_uf','ano']).sort_index()\n",
    "df_adh_corte.head()"
   ]
  },
  {
   "cell_type": "code",
   "execution_count": null,
   "id": "939d7b7f-851e-4e6f-8f7f-bfd10e502f4d",
   "metadata": {},
   "outputs": [],
   "source": []
  }
 ],
 "metadata": {
  "kernelspec": {
   "display_name": "Python 3",
   "language": "python",
   "name": "python3"
  },
  "language_info": {
   "codemirror_mode": {
    "name": "ipython",
    "version": 3
   },
   "file_extension": ".py",
   "mimetype": "text/x-python",
   "name": "python",
   "nbconvert_exporter": "python",
   "pygments_lexer": "ipython3",
   "version": "3.8.8"
  }
 },
 "nbformat": 4,
 "nbformat_minor": 5
}
