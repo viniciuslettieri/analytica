{
 "cells": [
  {
   "cell_type": "markdown",
   "id": "3b7aa280-bfd1-44cc-a85a-94e1534bdc1a",
   "metadata": {},
   "source": [
    "# Uma análise da educação brasileira a nível estadual"
   ]
  },
  {
   "cell_type": "markdown",
   "id": "6117b613-2d9c-421b-bc76-9aa1e8f30877",
   "metadata": {},
   "source": [
    "### Escolhas de Dados"
   ]
  },
  {
   "cell_type": "markdown",
   "id": "766e29ff-0641-4214-9187-346da0aa7b29",
   "metadata": {},
   "source": [
    "Ao invés de usar o **idhm_e** para medir o **nível de educação dos estados**, dei preferência para o índice **ideb**. Isso porque, **a primeira é determinada apenas com o nível de alfabetização e a frequência escolar dos alunos**, que não acredito que seja uma boa quantificação da qualidade de ensino e nível de conhecimento. **Já a segunda, é determinada pelo nível de aprovação e por notas na prova saeb**."
   ]
  },
  {
   "cell_type": "markdown",
   "id": "644708a3-45fa-4a9d-a06e-faae1f9856c6",
   "metadata": {},
   "source": [
    "..."
   ]
  },
  {
   "cell_type": "markdown",
   "id": "fc11247b-7869-467d-b219-62f839f4dcfd",
   "metadata": {},
   "source": [
    "### Coleta dos Dados"
   ]
  },
  {
   "cell_type": "code",
   "execution_count": 1,
   "id": "97955695-9edd-481d-a0f1-114348f0b70c",
   "metadata": {},
   "outputs": [],
   "source": [
    "import basedosdados as bd"
   ]
  },
  {
   "cell_type": "markdown",
   "id": "23d9eab4-4ebc-40ac-8da9-368148513515",
   "metadata": {},
   "source": [
    "#### Avaliação da Educação pela Prova SAEB"
   ]
  },
  {
   "cell_type": "markdown",
   "id": "af9856bc-d3b0-4d1e-a7c9-fd69b4bca6d5",
   "metadata": {},
   "source": [
    "Para a avaliação da educação, usarei os dados da prova da saeb, que se encontram na base de dados 'br_inep_ideb', mas especificamente na 'br_inep_ideb.estado' visto que o enfoque é estadual."
   ]
  },
  {
   "cell_type": "code",
   "execution_count": 21,
   "id": "a34a237a-4ac1-4d15-8643-4b384ab9ed6c",
   "metadata": {},
   "outputs": [
    {
     "name": "stderr",
     "output_type": "stream",
     "text": [
      "Downloading: 100%|██████████| 2673/2673 [00:01<00:00, 2423.10rows/s]\n"
     ]
    }
   ],
   "source": [
    "# querybd = \"SELECT * FROM `basedosdados.br_inep_ideb.estado`\"\n",
    "# bd.download(query=querybd, savepath=\"dados_ideb\", billing_project_id=\"projeto-analytica-314611\")"
   ]
  },
  {
   "cell_type": "code",
   "execution_count": 22,
   "id": "7739582d-9e04-43a3-b222-e5926ee76f27",
   "metadata": {},
   "outputs": [
    {
     "data": {
      "text/html": [
       "<div>\n",
       "<style scoped>\n",
       "    .dataframe tbody tr th:only-of-type {\n",
       "        vertical-align: middle;\n",
       "    }\n",
       "\n",
       "    .dataframe tbody tr th {\n",
       "        vertical-align: top;\n",
       "    }\n",
       "\n",
       "    .dataframe thead th {\n",
       "        text-align: right;\n",
       "    }\n",
       "</style>\n",
       "<table border=\"1\" class=\"dataframe\">\n",
       "  <thead>\n",
       "    <tr style=\"text-align: right;\">\n",
       "      <th></th>\n",
       "      <th>estado_abrev</th>\n",
       "      <th>rede</th>\n",
       "      <th>ensino</th>\n",
       "      <th>anos_escolares</th>\n",
       "      <th>ano</th>\n",
       "      <th>taxa_aprovacao</th>\n",
       "      <th>indicador_rendimento</th>\n",
       "      <th>nota_saeb_matematica</th>\n",
       "      <th>nota_saeb_lingua_portuguesa</th>\n",
       "      <th>nota_saeb_media_padronizada</th>\n",
       "      <th>ideb</th>\n",
       "      <th>projecao</th>\n",
       "    </tr>\n",
       "  </thead>\n",
       "  <tbody>\n",
       "    <tr>\n",
       "      <th>0</th>\n",
       "      <td>AC</td>\n",
       "      <td>estadual</td>\n",
       "      <td>fundamental</td>\n",
       "      <td>finais (6-9)</td>\n",
       "      <td>2005</td>\n",
       "      <td>82.9</td>\n",
       "      <td>0.834163</td>\n",
       "      <td>224.91</td>\n",
       "      <td>227.27</td>\n",
       "      <td>4.202988</td>\n",
       "      <td>3.5</td>\n",
       "      <td>NaN</td>\n",
       "    </tr>\n",
       "    <tr>\n",
       "      <th>1</th>\n",
       "      <td>AC</td>\n",
       "      <td>estadual</td>\n",
       "      <td>fundamental</td>\n",
       "      <td>finais (6-9)</td>\n",
       "      <td>2007</td>\n",
       "      <td>86.6</td>\n",
       "      <td>0.868471</td>\n",
       "      <td>234.00</td>\n",
       "      <td>225.57</td>\n",
       "      <td>4.326167</td>\n",
       "      <td>3.8</td>\n",
       "      <td>3.5</td>\n",
       "    </tr>\n",
       "    <tr>\n",
       "      <th>2</th>\n",
       "      <td>AC</td>\n",
       "      <td>estadual</td>\n",
       "      <td>fundamental</td>\n",
       "      <td>finais (6-9)</td>\n",
       "      <td>2009</td>\n",
       "      <td>88.8</td>\n",
       "      <td>0.889272</td>\n",
       "      <td>238.08</td>\n",
       "      <td>240.47</td>\n",
       "      <td>4.642833</td>\n",
       "      <td>4.1</td>\n",
       "      <td>3.7</td>\n",
       "    </tr>\n",
       "    <tr>\n",
       "      <th>3</th>\n",
       "      <td>AC</td>\n",
       "      <td>estadual</td>\n",
       "      <td>fundamental</td>\n",
       "      <td>finais (6-9)</td>\n",
       "      <td>2011</td>\n",
       "      <td>90.5</td>\n",
       "      <td>0.906057</td>\n",
       "      <td>240.89</td>\n",
       "      <td>236.83</td>\n",
       "      <td>4.629000</td>\n",
       "      <td>4.2</td>\n",
       "      <td>4.0</td>\n",
       "    </tr>\n",
       "    <tr>\n",
       "      <th>4</th>\n",
       "      <td>AC</td>\n",
       "      <td>estadual</td>\n",
       "      <td>fundamental</td>\n",
       "      <td>finais (6-9)</td>\n",
       "      <td>2013</td>\n",
       "      <td>91.3</td>\n",
       "      <td>0.913392</td>\n",
       "      <td>243.36</td>\n",
       "      <td>245.66</td>\n",
       "      <td>4.817333</td>\n",
       "      <td>4.4</td>\n",
       "      <td>4.4</td>\n",
       "    </tr>\n",
       "  </tbody>\n",
       "</table>\n",
       "</div>"
      ],
      "text/plain": [
       "  estado_abrev      rede       ensino anos_escolares   ano  taxa_aprovacao  \\\n",
       "0           AC  estadual  fundamental   finais (6-9)  2005            82.9   \n",
       "1           AC  estadual  fundamental   finais (6-9)  2007            86.6   \n",
       "2           AC  estadual  fundamental   finais (6-9)  2009            88.8   \n",
       "3           AC  estadual  fundamental   finais (6-9)  2011            90.5   \n",
       "4           AC  estadual  fundamental   finais (6-9)  2013            91.3   \n",
       "\n",
       "   indicador_rendimento  nota_saeb_matematica  nota_saeb_lingua_portuguesa  \\\n",
       "0              0.834163                224.91                       227.27   \n",
       "1              0.868471                234.00                       225.57   \n",
       "2              0.889272                238.08                       240.47   \n",
       "3              0.906057                240.89                       236.83   \n",
       "4              0.913392                243.36                       245.66   \n",
       "\n",
       "   nota_saeb_media_padronizada  ideb  projecao  \n",
       "0                     4.202988   3.5       NaN  \n",
       "1                     4.326167   3.8       3.5  \n",
       "2                     4.642833   4.1       3.7  \n",
       "3                     4.629000   4.2       4.0  \n",
       "4                     4.817333   4.4       4.4  "
      ]
     },
     "execution_count": 22,
     "metadata": {},
     "output_type": "execute_result"
    }
   ],
   "source": [
    "df_ideb = pd.read_csv(\"dados_ideb\")\n",
    "df_ideb.head()"
   ]
  },
  {
   "cell_type": "markdown",
   "id": "2c338084-8b95-4c0e-a016-ded4df86be95",
   "metadata": {},
   "source": [
    "#### Remuneração dos Profissionais de Educação"
   ]
  },
  {
   "cell_type": "code",
   "execution_count": 3,
   "id": "de123964-684f-4b16-a813-cccaebfb0929",
   "metadata": {},
   "outputs": [
    {
     "name": "stderr",
     "output_type": "stream",
     "text": [
      "Downloading: 100%|██████████| 972/972 [00:00<00:00, 1076.80rows/s]\n"
     ]
    }
   ],
   "source": [
    "# querybd = \"SELECT * FROM `basedosdados.br_inep_indicadores_educacionais.uf_remuneracao_docentes`\"\n",
    "# bd.download(query=querybd, savepath=\"dados_remuneracao\", billing_project_id=\"projeto-analytica-314611\")"
   ]
  },
  {
   "cell_type": "markdown",
   "id": "f4946993-8a05-4381-a2eb-f5c3d3adc6c5",
   "metadata": {},
   "source": [
    "#### Outros Dados de Desenvolvimento"
   ]
  },
  {
   "cell_type": "code",
   "execution_count": 4,
   "id": "51ac4360-56fb-4029-8a41-2d71982ca148",
   "metadata": {},
   "outputs": [
    {
     "name": "stderr",
     "output_type": "stream",
     "text": [
      "Downloading: 100%|██████████| 81/81 [00:00<00:00, 136.45rows/s]\n"
     ]
    }
   ],
   "source": [
    "# querybd = \"SELECT * FROM `basedosdados.mundo_onu_adh.estados`\"\n",
    "# bd.download(query=querybd, savepath=\"dados_adh_estados\", billing_project_id=\"projeto-analytica-314611\")"
   ]
  }
 ],
 "metadata": {
  "kernelspec": {
   "display_name": "Python 3",
   "language": "python",
   "name": "python3"
  },
  "language_info": {
   "codemirror_mode": {
    "name": "ipython",
    "version": 3
   },
   "file_extension": ".py",
   "mimetype": "text/x-python",
   "name": "python",
   "nbconvert_exporter": "python",
   "pygments_lexer": "ipython3",
   "version": "3.8.8"
  }
 },
 "nbformat": 4,
 "nbformat_minor": 5
}
